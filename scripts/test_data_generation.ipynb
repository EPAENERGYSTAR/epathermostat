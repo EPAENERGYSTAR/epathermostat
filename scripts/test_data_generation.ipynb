{
 "cells": [
  {
   "cell_type": "code",
   "execution_count": 1,
   "metadata": {
    "collapsed": false
   },
   "outputs": [],
   "source": [
    "from thermostat.importers import from_csv\n",
    "from thermostat.util.testing import get_data_path\n",
    "import thermostat\n",
    "import os"
   ]
  },
  {
   "cell_type": "code",
   "execution_count": 2,
   "metadata": {
    "collapsed": false
   },
   "outputs": [],
   "source": [
    "thermostat_path = os.path.join(os.path.join(\"/\", *thermostat.__file__.split('/')[:6]), \"tests\", \"data\", \"metadata_type_1_single.csv\")\n",
    "thermostat_type_1 = list(from_csv(thermostat_path))[0]"
   ]
  },
  {
   "cell_type": "code",
   "execution_count": 3,
   "metadata": {
    "collapsed": false,
    "scrolled": true
   },
   "outputs": [
    {
     "data": {
      "text/plain": [
       "[{'_daily_mean_core_day_demand_baseline_dailyavgCTD': 10.408255245982748,\n",
       "  '_daily_mean_core_day_demand_baseline_deltaT_cooling': 10.275793010752691,\n",
       "  '_daily_mean_core_day_demand_baseline_hourlyavgCTD': 10.076189648529365,\n",
       "  'alpha_dailyavgCTD': 41.036967918237124,\n",
       "  'alpha_deltaT_cooling': 41.036967982606093,\n",
       "  'alpha_hourlyavgCTD': 43.197061671334374,\n",
       "  'avoided_daily_mean_core_day_runtime_dailyavgCTD': 167.94044091529256,\n",
       "  'avoided_daily_mean_core_day_runtime_deltaT_cooling': 167.94044108985264,\n",
       "  'avoided_daily_mean_core_day_runtime_hourlyavgCTD': 176.07898996065927,\n",
       "  'avoided_total_core_day_runtime_dailyavgCTD': 46855.38301536662,\n",
       "  'avoided_total_core_day_runtime_deltaT_cooling': 46855.383064068883,\n",
       "  'avoided_total_core_day_runtime_hourlyavgCTD': 49126.038199023933,\n",
       "  'baseline10_core_cooling_comfort_temperature': 70.0,\n",
       "  'baseline_daily_mean_core_day_runtime_dailyavgCTD': 427.12323661421726,\n",
       "  'baseline_daily_mean_core_day_runtime_deltaT_cooling': 427.12323678877738,\n",
       "  'baseline_daily_mean_core_day_runtime_hourlyavgCTD': 435.26178565958395,\n",
       "  'baseline_total_core_day_runtime_dailyavgCTD': 119167.38301536662,\n",
       "  'baseline_total_core_day_runtime_deltaT_cooling': 119167.38306406888,\n",
       "  'baseline_total_core_day_runtime_hourlyavgCTD': 121438.03819902393,\n",
       "  'climate_zone': 'Mixed-Humid',\n",
       "  'ct_identifier': '8465829e-df0d-449e-97bf-96317c24dec3',\n",
       "  'cv_root_mean_sq_err_dailyavgCTD': 0.035622600852994589,\n",
       "  'cv_root_mean_sq_err_deltaT_cooling': 0.035622600852994589,\n",
       "  'cv_root_mean_sq_err_hourlyavgCTD': 0.059215432670233249,\n",
       "  'daily_mean_core_cooling_runtime': 259.18279569892474,\n",
       "  'end_date': '2014-12-31T00:00:00',\n",
       "  'equipment_type': 1,\n",
       "  'heating_or_cooling': 'cooling_ALL',\n",
       "  'mean_abs_err_dailyavgCTD': 6.7245506618977666,\n",
       "  'mean_abs_err_deltaT_cooling': 6.7245506557544878,\n",
       "  'mean_abs_err_hourlyavgCTD': 9.6841574264109198,\n",
       "  'mean_abs_pct_err_dailyavgCTD': 0.025945204594942428,\n",
       "  'mean_abs_pct_err_deltaT_cooling': 0.039751319303639385,\n",
       "  'mean_abs_pct_err_hourlyavgCTD': 0.037364198500506783,\n",
       "  'mean_demand_dailyavgCTD': 6.3158368867633135,\n",
       "  'mean_demand_deltaT_cooling': 6.1833746515332546,\n",
       "  'mean_demand_hourlyavgCTD': 6.0000098541637321,\n",
       "  'mean_sq_err_dailyavgCTD': 85.243954699804632,\n",
       "  'mean_sq_err_deltaT_cooling': 85.243954699804632,\n",
       "  'mean_sq_err_hourlyavgCTD': 235.54948226916471,\n",
       "  'n_core_cooling_days': 279,\n",
       "  'n_days_both_heating_and_cooling': 212,\n",
       "  'n_days_in_inputfile_date_range': 1460,\n",
       "  'n_days_insufficient_data': 13,\n",
       "  'percent_savings_dailyavgCTD': 39.318966171577863,\n",
       "  'percent_savings_deltaT_cooling': 39.318966196377467,\n",
       "  'percent_savings_hourlyavgCTD': 40.453583512697747,\n",
       "  'root_mean_sq_err_dailyavgCTD': 9.2327652791460384,\n",
       "  'root_mean_sq_err_deltaT_cooling': 9.2327652791460384,\n",
       "  'root_mean_sq_err_hourlyavgCTD': 15.347621387992497,\n",
       "  'start_date': '2011-01-01T00:00:00',\n",
       "  'station': '725314',\n",
       "  'sw_version': '0.3.4',\n",
       "  'tau_dailyavgCTD': 0.13246223523005834,\n",
       "  'tau_deltaT_cooling': 0.1324622231578064,\n",
       "  'tau_hourlyavgCTD': -0.59772643108680812,\n",
       "  'total_core_cooling_runtime': 72312.0,\n",
       "  'zipcode': '62223'},\n",
       " {'_daily_mean_core_day_demand_baseline_dailyavgHTD': 27.646627575551069,\n",
       "  '_daily_mean_core_day_demand_baseline_deltaT_heating': 25.183145519077197,\n",
       "  '_daily_mean_core_day_demand_baseline_hourlyavgHTD': 27.75294901325627,\n",
       "  'alpha_dailyavgHTD': 31.616543138550465,\n",
       "  'alpha_deltaT_heating': 31.616543261864294,\n",
       "  'alpha_hourlyavgHTD': 31.581695733213213,\n",
       "  'avoided_daily_mean_core_day_runtime_dailyavgHTD': 90.315283173767568,\n",
       "  'avoided_daily_mean_core_day_runtime_deltaT_heating': 90.31528344676417,\n",
       "  'avoided_daily_mean_core_day_runtime_hourlyavgHTD': 92.709681231957688,\n",
       "  'avoided_total_core_day_runtime_dailyavgHTD': 79658.079759262997,\n",
       "  'avoided_total_core_day_runtime_deltaT_heating': 79658.080000046,\n",
       "  'avoided_total_core_day_runtime_hourlyavgHTD': 81769.93884658668,\n",
       "  'baseline90_core_heating_comfort_temperature': 69.5,\n",
       "  'baseline_daily_mean_core_day_runtime_dailyavgHTD': 874.0907933778492,\n",
       "  'baseline_daily_mean_core_day_runtime_deltaT_heating': 874.09079365084574,\n",
       "  'baseline_daily_mean_core_day_runtime_hourlyavgHTD': 876.48519143603937,\n",
       "  'baseline_total_core_day_runtime_dailyavgHTD': 770948.07975926297,\n",
       "  'baseline_total_core_day_runtime_deltaT_heating': 770948.08000004594,\n",
       "  'baseline_total_core_day_runtime_hourlyavgHTD': 773059.93884658674,\n",
       "  'climate_zone': 'Mixed-Humid',\n",
       "  'ct_identifier': '8465829e-df0d-449e-97bf-96317c24dec3',\n",
       "  'cv_root_mean_sq_err_dailyavgHTD': 0.10463571541123799,\n",
       "  'cv_root_mean_sq_err_deltaT_heating': 0.10463571541123795,\n",
       "  'cv_root_mean_sq_err_hourlyavgHTD': 0.10546367026360252,\n",
       "  'daily_mean_core_heating_runtime': 783.77551020408168,\n",
       "  'end_date': '2014-12-31T00:00:00',\n",
       "  'equipment_type': 1,\n",
       "  'heating_or_cooling': 'heating_ALL',\n",
       "  'mean_abs_err_dailyavgHTD': 54.422121420106983,\n",
       "  'mean_abs_err_deltaT_heating': 54.422120753917241,\n",
       "  'mean_abs_err_hourlyavgHTD': 55.254760591329067,\n",
       "  'mean_abs_pct_err_dailyavgHTD': 0.069435853393705046,\n",
       "  'mean_abs_pct_err_deltaT_heating': 0.12004353179248572,\n",
       "  'mean_abs_pct_err_hourlyavgHTD': 0.070498197343448088,\n",
       "  'mean_demand_dailyavgHTD': 24.790044464045593,\n",
       "  'mean_demand_deltaT_heating': 22.326562407571725,\n",
       "  'mean_demand_hourlyavgHTD': 24.81739792647727,\n",
       "  'mean_sq_err_dailyavgHTD': 6725.7895611049762,\n",
       "  'mean_sq_err_deltaT_heating': 6725.7895611049726,\n",
       "  'mean_sq_err_hourlyavgHTD': 6832.6494743152734,\n",
       "  'n_core_heating_days': 882,\n",
       "  'n_days_both_heating_and_cooling': 212,\n",
       "  'n_days_in_inputfile_date_range': 1460,\n",
       "  'n_days_insufficient_data': 13,\n",
       "  'percent_savings_dailyavgHTD': 10.332483062171594,\n",
       "  'percent_savings_deltaT_heating': 10.332483090176611,\n",
       "  'percent_savings_hourlyavgHTD': 10.577438402588584,\n",
       "  'rhu_00F_to_05F': 0.13811230585424134,\n",
       "  'rhu_05F_to_10F': 0.21504112808460635,\n",
       "  'rhu_10F_to_15F': 0.25189433583120524,\n",
       "  'rhu_15F_to_20F': 0.34905586867873561,\n",
       "  'rhu_20F_to_25F': 0.2565088069329351,\n",
       "  'rhu_25F_to_30F': 0.30574378831881249,\n",
       "  'rhu_30F_to_35F': 0.268709491472999,\n",
       "  'rhu_35F_to_40F': 0.24520583502050564,\n",
       "  'rhu_40F_to_45F': 0.12015639518746908,\n",
       "  'rhu_45F_to_50F': 0.069261820071140248,\n",
       "  'rhu_50F_to_55F': 0.04768494913443562,\n",
       "  'rhu_55F_to_60F': 0.026319839926119748,\n",
       "  'root_mean_sq_err_dailyavgHTD': 82.010911232012148,\n",
       "  'root_mean_sq_err_deltaT_heating': 82.01091123201212,\n",
       "  'root_mean_sq_err_hourlyavgHTD': 82.659841968850102,\n",
       "  'start_date': '2011-01-01T00:00:00',\n",
       "  'station': '725314',\n",
       "  'sw_version': '0.3.4',\n",
       "  'tau_dailyavgHTD': -2.46348205647387,\n",
       "  'tau_deltaT_heating': -2.4634819572784949,\n",
       "  'tau_hourlyavgHTD': -2.4755774760841209,\n",
       "  'total_auxiliary_heating_core_day_runtime': 144794.0,\n",
       "  'total_core_heating_runtime': 691290.0,\n",
       "  'total_emergency_heating_core_day_runtime': 2084.0,\n",
       "  'zipcode': '62223'}]"
      ]
     },
     "execution_count": 3,
     "metadata": {},
     "output_type": "execute_result"
    }
   ],
   "source": [
    "metrics = thermostat_type_1.calculate_epa_field_savings_metrics()\n",
    "metrics"
   ]
  },
  {
   "cell_type": "code",
   "execution_count": null,
   "metadata": {
    "collapsed": true
   },
   "outputs": [],
   "source": []
  }
 ],
 "metadata": {
  "kernelspec": {
   "display_name": "Python 3",
   "language": "python",
   "name": "python3"
  },
  "language_info": {
   "codemirror_mode": {
    "name": "ipython",
    "version": 3
   },
   "file_extension": ".py",
   "mimetype": "text/x-python",
   "name": "python",
   "nbconvert_exporter": "python",
   "pygments_lexer": "ipython3",
   "version": "3.4.3"
  }
 },
 "nbformat": 4,
 "nbformat_minor": 0
}
