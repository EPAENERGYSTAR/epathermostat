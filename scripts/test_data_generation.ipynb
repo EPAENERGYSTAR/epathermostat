{
 "cells": [
  {
   "cell_type": "code",
   "execution_count": 1,
   "metadata": {
    "collapsed": false
   },
   "outputs": [],
   "source": [
    "from thermostat.importers import from_csv\n",
    "from thermostat.util.testing import get_data_path\n",
    "import thermostat\n",
    "import os"
   ]
  },
  {
   "cell_type": "code",
   "execution_count": 2,
   "metadata": {
    "collapsed": false
   },
   "outputs": [],
   "source": [
    "thermostat_path = os.path.join(os.path.join(\"/\", *thermostat.__file__.split('/')[:6]), \"tests\", \"data\", \"metadata_type_1_single.csv\")\n",
    "thermostat_type_1 = list(from_csv(thermostat_path))[0]"
   ]
  },
  {
   "cell_type": "code",
   "execution_count": 3,
   "metadata": {
    "collapsed": false,
    "scrolled": true
   },
   "outputs": [
    {
     "data": {
      "text/plain": [
       "[{'_daily_mean_core_day_demand_baseline_baseline_percentile': 10.037828533462667,\n",
       "  '_daily_mean_core_day_demand_baseline_baseline_regional': 7.1915897136190141,\n",
       "  'alpha': 43.763105264095309,\n",
       "  'avoided_daily_mean_core_day_runtime_baseline_percentile': 192.37100619232558,\n",
       "  'avoided_daily_mean_core_day_runtime_baseline_regional': 67.81075711275345,\n",
       "  'avoided_total_core_day_runtime_baseline_percentile': 56941.817832928369,\n",
       "  'avoided_total_core_day_runtime_baseline_regional': 20071.984105375021,\n",
       "  'baseline_daily_mean_core_day_runtime_baseline_percentile': 439.28654673286616,\n",
       "  'baseline_daily_mean_core_day_runtime_baseline_regional': 314.72629765329395,\n",
       "  'baseline_percentile_core_cooling_comfort_temperature': 69.5,\n",
       "  'baseline_total_core_day_runtime_baseline_percentile': 130028.81783292838,\n",
       "  'baseline_total_core_day_runtime_baseline_regional': 93158.984105375013,\n",
       "  'climate_zone': 'Mixed-Humid',\n",
       "  'ct_identifier': '8465829e-df0d-449e-97bf-96317c24dec3',\n",
       "  'cv_root_mean_sq_err': 0.076369208143191203,\n",
       "  'daily_mean_core_cooling_runtime': 246.91554054054055,\n",
       "  'end_date': '2014-12-31T00:00:00',\n",
       "  'equipment_type': 1,\n",
       "  'heating_or_cooling': 'cooling_ALL',\n",
       "  'mean_abs_err': 11.86500967954804,\n",
       "  'mean_abs_pct_err': 0.048052907701044228,\n",
       "  'mean_demand': 5.6420937008580641,\n",
       "  'mean_sq_err': 355.57680594741566,\n",
       "  'n_core_cooling_days': 296,\n",
       "  'n_days_both_heating_and_cooling': 212,\n",
       "  'n_days_in_inputfile_date_range': 1460,\n",
       "  'n_days_insufficient_data': 13,\n",
       "  'percent_savings_baseline_percentile': 43.791690782032532,\n",
       "  'percent_savings_baseline_regional': 21.545945673549831,\n",
       "  'regional_average_baseline_cooling_comfort_temperature': 73.0,\n",
       "  'root_mean_sq_err': 18.856744309329105,\n",
       "  'start_date': '2011-01-01T00:00:00',\n",
       "  'station': '725314',\n",
       "  'sw_version': '0.4.1',\n",
       "  'tau': -0.77340507831642546,\n",
       "  'total_core_cooling_runtime': 73087.0,\n",
       "  'zipcode': '62223'},\n",
       " {'_daily_mean_core_day_demand_baseline_baseline_percentile': 27.287371123657238,\n",
       "  '_daily_mean_core_day_demand_baseline_baseline_regional': 26.803790817658069,\n",
       "  'alpha': 31.710213838562527,\n",
       "  'avoided_daily_mean_core_day_runtime_baseline_percentile': 92.210161132884522,\n",
       "  'avoided_daily_mean_core_day_runtime_baseline_regional': 76.87572622153327,\n",
       "  'avoided_total_core_day_runtime_baseline_percentile': 82528.094213931647,\n",
       "  'avoided_total_core_day_runtime_baseline_regional': 68803.774968272279,\n",
       "  'baseline_daily_mean_core_day_runtime_baseline_percentile': 865.28837342338727,\n",
       "  'baseline_daily_mean_core_day_runtime_baseline_regional': 849.95393851203607,\n",
       "  'baseline_percentile_core_heating_comfort_temperature': 69.5,\n",
       "  'baseline_total_core_day_runtime_baseline_percentile': 774433.09421393159,\n",
       "  'baseline_total_core_day_runtime_baseline_regional': 760708.77496827231,\n",
       "  'climate_zone': 'Mixed-Humid',\n",
       "  'ct_identifier': '8465829e-df0d-449e-97bf-96317c24dec3',\n",
       "  'cv_root_mean_sq_err': 0.10688726642785656,\n",
       "  'daily_mean_core_heating_runtime': 773.07821229050285,\n",
       "  'end_date': '2014-12-31T00:00:00',\n",
       "  'equipment_type': 1,\n",
       "  'heating_or_cooling': 'heating_ALL',\n",
       "  'mean_abs_err': 55.118493568893847,\n",
       "  'mean_abs_pct_err': 0.071297434971795248,\n",
       "  'mean_demand': 24.379470167759287,\n",
       "  'mean_sq_err': 6828.0832609944391,\n",
       "  'n_core_heating_days': 895,\n",
       "  'n_days_both_heating_and_cooling': 212,\n",
       "  'n_days_in_inputfile_date_range': 1460,\n",
       "  'n_days_insufficient_data': 13,\n",
       "  'percent_savings_baseline_percentile': 10.656581547267123,\n",
       "  'percent_savings_baseline_regional': 9.0446932166836049,\n",
       "  'regional_average_baseline_heating_comfort_temperature': 69,\n",
       "  'rhu_00F_to_05F': 0.0,\n",
       "  'rhu_05F_to_10F': 0.35810185185185184,\n",
       "  'rhu_10F_to_15F': 0.36336805555555557,\n",
       "  'rhu_15F_to_20F': 0.38119557629422784,\n",
       "  'rhu_20F_to_25F': 0.37248012562567473,\n",
       "  'rhu_25F_to_30F': 0.33389851485148514,\n",
       "  'rhu_30F_to_35F': 0.28564601161939751,\n",
       "  'rhu_35F_to_40F': 0.19922959372824189,\n",
       "  'rhu_40F_to_45F': 0.14960073815029559,\n",
       "  'rhu_45F_to_50F': 0.091284920350038989,\n",
       "  'rhu_50F_to_55F': 0.051777928495300843,\n",
       "  'rhu_55F_to_60F': 0.029059252674493455,\n",
       "  'root_mean_sq_err': 82.63221684666604,\n",
       "  'start_date': '2011-01-01T00:00:00',\n",
       "  'station': '725314',\n",
       "  'sw_version': '0.4.1',\n",
       "  'tau': -2.3424954770368576,\n",
       "  'total_auxiliary_heating_core_day_runtime': 144794.0,\n",
       "  'total_core_heating_runtime': 691905.0,\n",
       "  'total_emergency_heating_core_day_runtime': 2104.0,\n",
       "  'zipcode': '62223'}]"
      ]
     },
     "execution_count": 3,
     "metadata": {},
     "output_type": "execute_result"
    }
   ],
   "source": [
    "metrics = thermostat_type_1.calculate_epa_field_savings_metrics()\n",
    "metrics"
   ]
  }
 ],
 "metadata": {
  "kernelspec": {
   "display_name": "Python 3",
   "language": "python",
   "name": "python3"
  },
  "language_info": {
   "codemirror_mode": {
    "name": "ipython",
    "version": 3
   },
   "file_extension": ".py",
   "mimetype": "text/x-python",
   "name": "python",
   "nbconvert_exporter": "python",
   "pygments_lexer": "ipython3",
   "version": "3.4.3"
  }
 },
 "nbformat": 4,
 "nbformat_minor": 0
}
