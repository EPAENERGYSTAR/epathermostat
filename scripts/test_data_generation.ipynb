{
 "cells": [
  {
   "cell_type": "code",
   "execution_count": 1,
   "metadata": {
    "collapsed": false
   },
   "outputs": [],
   "source": [
    "from thermostat.importers import from_csv\n",
    "from thermostat.util.testing import get_data_path\n",
    "import thermostat\n",
    "import os"
   ]
  },
  {
   "cell_type": "code",
   "execution_count": 2,
   "metadata": {
    "collapsed": false
   },
   "outputs": [],
   "source": [
    "thermostat_path = os.path.join(os.path.join(\"/\", *thermostat.__file__.split('/')[:6]), \"tests\", \"data\", \"metadata_type_1_single.csv\")\n",
    "thermostat_type_1 = list(from_csv(thermostat_path))[0]"
   ]
  },
  {
   "cell_type": "code",
   "execution_count": 3,
   "metadata": {
    "collapsed": false,
    "scrolled": true
   },
   "outputs": [],
   "source": [
    "seasonal_metrics = thermostat_type_1.calculate_epa_draft_rccs_field_savings_metrics()"
   ]
  },
  {
   "cell_type": "code",
   "execution_count": 4,
   "metadata": {
    "collapsed": false
   },
   "outputs": [
    {
     "data": {
      "text/plain": [
       "['All Cooling', 'All Heating']"
      ]
     },
     "execution_count": 4,
     "metadata": {},
     "output_type": "execute_result"
    }
   ],
   "source": [
    "[sm[\"season_name\"] for sm in seasonal_metrics]"
   ]
  },
  {
   "cell_type": "code",
   "execution_count": 5,
   "metadata": {
    "collapsed": false
   },
   "outputs": [
    {
     "data": {
      "text/plain": [
       "[{'actual_daily_runtime': 259.18279569892474,\n",
       "  'actual_seasonal_runtime': 72312.0,\n",
       "  'alpha_dailyavgCDD': 41.036967918237124,\n",
       "  'alpha_deltaT': 41.036967982606093,\n",
       "  'alpha_hourlyavgCDD': 43.197061671334374,\n",
       "  'avoided_daily_runtime_dailyavgCDD': 45.038053651730685,\n",
       "  'avoided_daily_runtime_deltaT': 45.038053640613533,\n",
       "  'avoided_daily_runtime_hourlyavgCDD': 68.957398341402126,\n",
       "  'avoided_seasonal_runtime_dailyavgCDD': 12565.616968832861,\n",
       "  'avoided_seasonal_runtime_deltaT': 12565.616965731177,\n",
       "  'avoided_seasonal_runtime_hourlyavgCDD': 19239.114137251192,\n",
       "  'baseline_comfort_temperature': 73.0,\n",
       "  'baseline_daily_runtime_dailyavgCDD': 304.22084935065539,\n",
       "  'baseline_daily_runtime_deltaT': 304.22084933953829,\n",
       "  'baseline_daily_runtime_hourlyavgCDD': 328.14019404032683,\n",
       "  'baseline_seasonal_runtime_dailyavgCDD': 84877.616968832852,\n",
       "  'baseline_seasonal_runtime_deltaT': 84877.616965731184,\n",
       "  'baseline_seasonal_runtime_hourlyavgCDD': 91551.114137251192,\n",
       "  'ct_identifier': '8465829e-df0d-449e-97bf-96317c24dec3',\n",
       "  'cv_root_mean_sq_err_dailyavgCDD': 0.035622600852994589,\n",
       "  'cv_root_mean_sq_err_deltaT': 0.035622600852994589,\n",
       "  'cv_root_mean_sq_err_hourlyavgCDD': 0.059215432670233249,\n",
       "  'equipment_type': 1,\n",
       "  'mean_abs_err_dailyavgCDD': 6.7245506618977666,\n",
       "  'mean_abs_err_deltaT': 6.7245506557544878,\n",
       "  'mean_abs_err_hourlyavgCDD': 9.6841574264109198,\n",
       "  'mean_abs_pct_err_dailyavgCDD': 0.025945204594942428,\n",
       "  'mean_abs_pct_err_deltaT': 0.039751319303639385,\n",
       "  'mean_abs_pct_err_hourlyavgCDD': 0.037364198500506783,\n",
       "  'mean_demand_baseline_dailyavgCDD': 7.4133364325744315,\n",
       "  'mean_demand_baseline_deltaT': 7.2757930107526905,\n",
       "  'mean_demand_baseline_hourlyavgCDD': 7.5963545052436077,\n",
       "  'mean_demand_dailyavgCDD': 6.3158368867633135,\n",
       "  'mean_demand_deltaT': 6.1833746515332546,\n",
       "  'mean_demand_hourlyavgCDD': 6.0000098541637321,\n",
       "  'mean_sq_err_dailyavgCDD': 85.243954699804632,\n",
       "  'mean_sq_err_deltaT': 85.243954699804632,\n",
       "  'mean_sq_err_hourlyavgCDD': 235.54948226916471,\n",
       "  'n_days_both_heating_and_cooling': 212,\n",
       "  'n_days_in_season': 279,\n",
       "  'n_days_in_season_range': 1460,\n",
       "  'n_days_insufficient_data': 13,\n",
       "  'percent_savings_dailyavgCDD': 14.804394159000681,\n",
       "  'percent_savings_deltaT': 14.804394155887371,\n",
       "  'percent_savings_hourlyavgCDD': 21.014614970614538,\n",
       "  'root_mean_sq_err_dailyavgCDD': 9.2327652791460384,\n",
       "  'root_mean_sq_err_deltaT': 9.2327652791460384,\n",
       "  'root_mean_sq_err_hourlyavgCDD': 15.347621387992497,\n",
       "  'season_name': 'All Cooling',\n",
       "  'station': '725314',\n",
       "  'tau_dailyavgCDD': 0.13246223523005834,\n",
       "  'tau_deltaT': 0.1324622231578064,\n",
       "  'tau_hourlyavgCDD': -0.59772643108680812,\n",
       "  'total_cooling_runtime': 72312.0,\n",
       "  'zipcode': '62223'},\n",
       " {'actual_daily_runtime': 783.77551020408168,\n",
       "  'actual_seasonal_runtime': 691290.0,\n",
       "  'alpha_dailyavgHDD': 31.616543138550465,\n",
       "  'alpha_deltaT': 31.616543261864294,\n",
       "  'alpha_hourlyavgHDD': 31.581695733213213,\n",
       "  'avoided_daily_runtime_dailyavgHDD': 74.507011604492305,\n",
       "  'avoided_daily_runtime_deltaT': 74.507011815832016,\n",
       "  'avoided_daily_runtime_hourlyavgHDD': 77.355750177198516,\n",
       "  'avoided_seasonal_runtime_dailyavgHDD': 65715.184235162218,\n",
       "  'avoided_seasonal_runtime_deltaT': 65715.184421563841,\n",
       "  'avoided_seasonal_runtime_hourlyavgHDD': 68227.771656289086,\n",
       "  'baseline_comfort_temperature': 69.0,\n",
       "  'baseline_daily_runtime_dailyavgHDD': 858.28252180857396,\n",
       "  'baseline_daily_runtime_deltaT': 858.28252201991359,\n",
       "  'baseline_daily_runtime_hourlyavgHDD': 861.13126038128019,\n",
       "  'baseline_seasonal_runtime_dailyavgHDD': 757005.18423516222,\n",
       "  'baseline_seasonal_runtime_deltaT': 757005.18442156375,\n",
       "  'baseline_seasonal_runtime_hourlyavgHDD': 759517.77165628911,\n",
       "  'ct_identifier': '8465829e-df0d-449e-97bf-96317c24dec3',\n",
       "  'cv_root_mean_sq_err_dailyavgHDD': 0.10463571541123799,\n",
       "  'cv_root_mean_sq_err_deltaT': 0.10463571541123795,\n",
       "  'cv_root_mean_sq_err_hourlyavgHDD': 0.10546367026360252,\n",
       "  'equipment_type': 1,\n",
       "  'mean_abs_err_dailyavgHDD': 54.422121420106983,\n",
       "  'mean_abs_err_deltaT': 54.422120753917241,\n",
       "  'mean_abs_err_hourlyavgHDD': 55.254760591329067,\n",
       "  'mean_abs_pct_err_dailyavgHDD': 0.069435853393705046,\n",
       "  'mean_abs_pct_err_deltaT': 0.12004353179248572,\n",
       "  'mean_abs_pct_err_hourlyavgHDD': 0.070498197343448088,\n",
       "  'mean_demand_baseline_dailyavgHDD': 27.146627575551069,\n",
       "  'mean_demand_baseline_deltaT': 24.683145519077197,\n",
       "  'mean_demand_baseline_hourlyavgHDD': 27.266783508260538,\n",
       "  'mean_demand_dailyavgHDD': 24.790044464045593,\n",
       "  'mean_demand_deltaT': 22.326562407571725,\n",
       "  'mean_demand_hourlyavgHDD': 24.81739792647727,\n",
       "  'mean_sq_err_dailyavgHDD': 6725.7895611049762,\n",
       "  'mean_sq_err_deltaT': 6725.7895611049726,\n",
       "  'mean_sq_err_hourlyavgHDD': 6832.6494743152734,\n",
       "  'n_days_both_heating_and_cooling': 212,\n",
       "  'n_days_in_season': 882,\n",
       "  'n_days_in_season_range': 1460,\n",
       "  'n_days_insufficient_data': 13,\n",
       "  'percent_savings_dailyavgHDD': 8.6809424299461497,\n",
       "  'percent_savings_deltaT': 8.6809424524321521,\n",
       "  'percent_savings_hourlyavgHDD': 8.9830382121940353,\n",
       "  'rhu_00F_to_05F': 0.13811230585424134,\n",
       "  'rhu_05F_to_10F': 0.21504112808460635,\n",
       "  'rhu_10F_to_15F': 0.25189433583120524,\n",
       "  'rhu_15F_to_20F': 0.34905586867873561,\n",
       "  'rhu_20F_to_25F': 0.2565088069329351,\n",
       "  'rhu_25F_to_30F': 0.30574378831881249,\n",
       "  'rhu_30F_to_35F': 0.268709491472999,\n",
       "  'rhu_35F_to_40F': 0.24520583502050564,\n",
       "  'rhu_40F_to_45F': 0.12015639518746908,\n",
       "  'rhu_45F_to_50F': 0.069261820071140248,\n",
       "  'rhu_50F_to_55F': 0.04768494913443562,\n",
       "  'rhu_55F_to_60F': 0.026319839926119748,\n",
       "  'root_mean_sq_err_dailyavgHDD': 82.010911232012148,\n",
       "  'root_mean_sq_err_deltaT': 82.01091123201212,\n",
       "  'root_mean_sq_err_hourlyavgHDD': 82.659841968850102,\n",
       "  'season_name': 'All Heating',\n",
       "  'station': '725314',\n",
       "  'tau_dailyavgHDD': -2.46348205647387,\n",
       "  'tau_deltaT': -2.4634819572784949,\n",
       "  'tau_hourlyavgHDD': -2.4755774760841209,\n",
       "  'total_auxiliary_heating_runtime': 144794.0,\n",
       "  'total_emergency_heating_runtime': 2084.0,\n",
       "  'total_heating_runtime': 691290.0,\n",
       "  'zipcode': '62223'}]"
      ]
     },
     "execution_count": 5,
     "metadata": {},
     "output_type": "execute_result"
    }
   ],
   "source": [
    "seasonal_metrics"
   ]
  },
  {
   "cell_type": "code",
   "execution_count": null,
   "metadata": {
    "collapsed": true
   },
   "outputs": [],
   "source": []
  }
 ],
 "metadata": {
  "kernelspec": {
   "display_name": "Python 3",
   "language": "python",
   "name": "python3"
  },
  "language_info": {
   "codemirror_mode": {
    "name": "ipython",
    "version": 3
   },
   "file_extension": ".py",
   "mimetype": "text/x-python",
   "name": "python",
   "nbconvert_exporter": "python",
   "pygments_lexer": "ipython3",
   "version": "3.4.3"
  }
 },
 "nbformat": 4,
 "nbformat_minor": 0
}
