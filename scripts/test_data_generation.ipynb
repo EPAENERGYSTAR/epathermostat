{
 "cells": [
  {
   "cell_type": "code",
   "execution_count": 1,
   "metadata": {},
   "outputs": [],
   "source": [
    "from thermostat.importers import from_csv\n",
    "from thermostat.util.testing import get_data_path\n",
    "import thermostat\n",
    "import os"
   ]
  },
  {
   "cell_type": "code",
   "execution_count": 2,
   "metadata": {},
   "outputs": [],
   "source": [
    "thermostat_path = os.path.join(os.path.join(\"/\", *thermostat.__file__.split('/')[:5]), \"tests\", \"data\", \"metadata_type_1_single.csv\")\n",
    "thermostat_type_1 = list(from_csv(thermostat_path))[0]"
   ]
  },
  {
   "cell_type": "code",
   "execution_count": 3,
   "metadata": {
    "scrolled": true
   },
   "outputs": [
    {
     "data": {
      "text/plain": [
       "[{'sw_version': '1.4.0',\n",
       "  'ct_identifier': '8465829e-df0d-449e-97bf-96317c24dec3',\n",
       "  'equipment_type': 1,\n",
       "  'heating_or_cooling': 'cooling_ALL',\n",
       "  'zipcode': '62223',\n",
       "  'station': '725314',\n",
       "  'climate_zone': 'Mixed-Humid',\n",
       "  'start_date': '2011-01-01T00:00:00',\n",
       "  'end_date': '2014-12-31T00:00:00',\n",
       "  'n_days_in_inputfile_date_range': 1460,\n",
       "  'n_days_both_heating_and_cooling': 212,\n",
       "  'n_days_insufficient_data': 13,\n",
       "  'n_core_cooling_days': 296,\n",
       "  'baseline_percentile_core_cooling_comfort_temperature': 69.5,\n",
       "  'regional_average_baseline_cooling_comfort_temperature': 73.0,\n",
       "  'percent_savings_baseline_percentile': 43.83576234744179,\n",
       "  'avoided_daily_mean_core_day_runtime_baseline_percentile': 192.71571034192178,\n",
       "  'avoided_total_core_day_runtime_baseline_percentile': 57043.85026120885,\n",
       "  'baseline_daily_mean_core_day_runtime_baseline_percentile': 439.6312508824623,\n",
       "  'baseline_total_core_day_runtime_baseline_percentile': 130130.85026120885,\n",
       "  '_daily_mean_core_day_demand_baseline_baseline_percentile': 9.976082164677136,\n",
       "  'percent_savings_baseline_regional': 21.403521446912517,\n",
       "  'avoided_daily_mean_core_day_runtime_baseline_regional': 67.24044339932902,\n",
       "  'avoided_total_core_day_runtime_baseline_regional': 19903.17124620139,\n",
       "  'baseline_daily_mean_core_day_runtime_baseline_regional': 314.15598393986954,\n",
       "  'baseline_total_core_day_runtime_baseline_regional': 92990.17124620138,\n",
       "  '_daily_mean_core_day_demand_baseline_baseline_regional': 7.128806020996521,\n",
       "  'mean_demand': 5.60299049538374,\n",
       "  'tau': -0.8165326352929079,\n",
       "  'alpha': 44.06852746653279,\n",
       "  'mean_sq_err': 379.28224705229485,\n",
       "  'root_mean_sq_err': 19.47517001343749,\n",
       "  'cv_root_mean_sq_err': 0.07887381236030344,\n",
       "  'mean_abs_pct_err': 0.050400459129042466,\n",
       "  'mean_abs_err': 12.444656609338942,\n",
       "  'total_core_cooling_runtime': 73087.0,\n",
       "  'daily_mean_core_cooling_runtime': 246.91554054054055,\n",
       "  'core_cooling_days_mean_indoor_temperature': 73.95971753003002,\n",
       "  'core_cooling_days_mean_outdoor_temperature': 79.8426321875,\n",
       "  'core_mean_indoor_temperature': 73.95971753003002,\n",
       "  'core_mean_outdoor_temperature': 79.8426321875},\n",
       " {'sw_version': '1.4.0',\n",
       "  'ct_identifier': '8465829e-df0d-449e-97bf-96317c24dec3',\n",
       "  'equipment_type': 1,\n",
       "  'heating_or_cooling': 'heating_ALL',\n",
       "  'zipcode': '62223',\n",
       "  'station': '725314',\n",
       "  'climate_zone': 'Mixed-Humid',\n",
       "  'start_date': '2011-01-01T00:00:00',\n",
       "  'end_date': '2014-12-31T00:00:00',\n",
       "  'n_days_in_inputfile_date_range': 1460,\n",
       "  'n_days_both_heating_and_cooling': 212,\n",
       "  'n_days_insufficient_data': 13,\n",
       "  'n_core_heating_days': 895,\n",
       "  'baseline_percentile_core_heating_comfort_temperature': 69.5,\n",
       "  'regional_average_baseline_heating_comfort_temperature': 69,\n",
       "  'percent_savings_baseline_percentile': 10.64692893106402,\n",
       "  'avoided_daily_mean_core_day_runtime_baseline_percentile': 92.11668592857713,\n",
       "  'avoided_total_core_day_runtime_baseline_percentile': 82444.43390607653,\n",
       "  'baseline_daily_mean_core_day_runtime_baseline_percentile': 865.19489821908,\n",
       "  'baseline_total_core_day_runtime_baseline_percentile': 774349.4339060766,\n",
       "  '_daily_mean_core_day_demand_baseline_baseline_percentile': 27.292461874951055,\n",
       "  'percent_savings_baseline_regional': 9.033255812379368,\n",
       "  'avoided_daily_mean_core_day_runtime_baseline_regional': 76.76886005938185,\n",
       "  'avoided_total_core_day_runtime_baseline_regional': 68708.12975314676,\n",
       "  'baseline_daily_mean_core_day_runtime_baseline_regional': 849.8470723498847,\n",
       "  'baseline_total_core_day_runtime_baseline_regional': 760613.1297531468,\n",
       "  '_daily_mean_core_day_demand_baseline_baseline_regional': 26.808316680312686,\n",
       "  'mean_demand': 24.386652855587275,\n",
       "  'tau': -2.3486605751007135,\n",
       "  'alpha': 31.700874116202517,\n",
       "  'mean_sq_err': 6897.07048492154,\n",
       "  'root_mean_sq_err': 83.04860314852706,\n",
       "  'cv_root_mean_sq_err': 0.1074258746763381,\n",
       "  'mean_abs_pct_err': 0.07192178838260584,\n",
       "  'mean_abs_err': 55.60116758756078,\n",
       "  'total_core_heating_runtime': 691905.0,\n",
       "  'daily_mean_core_heating_runtime': 773.0782122905028,\n",
       "  'core_heating_days_mean_indoor_temperature': 66.6958723285375,\n",
       "  'core_heating_days_mean_outdoor_temperature': 44.679677289106145,\n",
       "  'core_mean_indoor_temperature': 66.6958723285375,\n",
       "  'core_mean_outdoor_temperature': 44.679677289106145,\n",
       "  'total_auxiliary_heating_core_day_runtime': 144794.0,\n",
       "  'total_emergency_heating_core_day_runtime': 2104.0,\n",
       "  'rhu_00F_to_05F': nan,\n",
       "  'rhu_05F_to_10F': 0.35810185185185184,\n",
       "  'rhu_10F_to_15F': 0.36336805555555557,\n",
       "  'rhu_15F_to_20F': 0.37900691389063484,\n",
       "  'rhu_20F_to_25F': 0.375673443706005,\n",
       "  'rhu_25F_to_30F': 0.3318400322150354,\n",
       "  'rhu_30F_to_35F': 0.28432496802364043,\n",
       "  'rhu_35F_to_40F': 0.19741898266605878,\n",
       "  'rhu_40F_to_45F': 0.15271363589013506,\n",
       "  'rhu_45F_to_50F': 0.09249776186213071,\n",
       "  'rhu_50F_to_55F': 0.052322643343051506,\n",
       "  'rhu_55F_to_60F': 0.028319891645631964}]"
      ]
     },
     "execution_count": 3,
     "metadata": {},
     "output_type": "execute_result"
    }
   ],
   "source": [
    "metrics = thermostat_type_1.calculate_epa_field_savings_metrics()\n",
    "metrics"
   ]
  },
  {
   "cell_type": "code",
   "execution_count": null,
   "metadata": {},
   "outputs": [],
   "source": []
  }
 ],
 "metadata": {
  "kernelspec": {
   "display_name": "Python 3",
   "language": "python",
   "name": "python3"
  },
  "language_info": {
   "codemirror_mode": {
    "name": "ipython",
    "version": 3
   },
   "file_extension": ".py",
   "mimetype": "text/x-python",
   "name": "python",
   "nbconvert_exporter": "python",
   "pygments_lexer": "ipython3",
   "version": "3.6.6"
  }
 },
 "nbformat": 4,
 "nbformat_minor": 1
}
