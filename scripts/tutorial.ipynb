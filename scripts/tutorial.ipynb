{
 "cells": [
  {
   "cell_type": "code",
   "execution_count": null,
   "metadata": {
    "collapsed": false
   },
   "outputs": [],
   "source": [
    "import thermostat; thermostat.get_version()"
   ]
  },
  {
   "cell_type": "code",
   "execution_count": null,
   "metadata": {
    "collapsed": false
   },
   "outputs": [],
   "source": [
    "import sys\n",
    "import os\n",
    "from os.path import expanduser\n",
    "from thermostat.importers import from_csv\n",
    "from thermostat.exporters import metrics_to_csv\n",
    "\n",
    "data_dir = os.path.join(expanduser(\"~\"), \"Downloads\")"
   ]
  },
  {
   "cell_type": "code",
   "execution_count": null,
   "metadata": {
    "collapsed": false
   },
   "outputs": [],
   "source": [
    "# dev specific\n",
    "data_dir = os.path.join(os.path.join(\"/\", *thermostat.__file__.split('/')[:6]), \"tests\", \"data\")"
   ]
  },
  {
   "cell_type": "code",
   "execution_count": null,
   "metadata": {
    "collapsed": true
   },
   "outputs": [],
   "source": [
    "metadata_filename = os.path.join(data_dir, \"examples/metadata.csv\")\n",
    "thermostats = from_csv(metadata_filename, verbose=True)"
   ]
  },
  {
   "cell_type": "code",
   "execution_count": null,
   "metadata": {
    "collapsed": false
   },
   "outputs": [],
   "source": [
    "# dev specific\n",
    "metadata_filename = os.path.join(data_dir, \"metadata.csv\")\n",
    "thermostats = from_csv(metadata_filename, verbose=True)"
   ]
  },
  {
   "cell_type": "code",
   "execution_count": null,
   "metadata": {
    "collapsed": true
   },
   "outputs": [],
   "source": [
    "data_dir = os.path.join(expanduser(\"~\"), \"Downloads\")"
   ]
  },
  {
   "cell_type": "code",
   "execution_count": null,
   "metadata": {
    "collapsed": false,
    "scrolled": true
   },
   "outputs": [],
   "source": [
    "metrics = []\n",
    "for thermostat in thermostats:\n",
    "    outputs = thermostat.calculate_epa_field_savings_metrics()\n",
    "    metrics.extend(outputs)\n",
    "\n",
    "output_filename = os.path.join(data_dir, \"thermostat_example_output.csv\")\n",
    "metrics_df = metrics_to_csv(metrics, output_filename)"
   ]
  },
  {
   "cell_type": "code",
   "execution_count": null,
   "metadata": {
    "collapsed": true
   },
   "outputs": [],
   "source": [
    "from thermostat.stats import compute_summary_statistics\n",
    "from thermostat.stats import compute_summary_statistics_by_zipcode\n",
    "from thermostat.stats import compute_summary_statistics_by_weather_station\n",
    "from thermostat.stats import compute_summary_statistics_by_zipcode_group\n",
    "\n",
    "from thermostat.stats import summary_statistics_to_csv"
   ]
  },
  {
   "cell_type": "code",
   "execution_count": null,
   "metadata": {
    "collapsed": false
   },
   "outputs": [],
   "source": [
    "# uses the metrics_df created in the quickstart above.\n",
    "stats = compute_summary_statistics(metrics_df, \"all_thermostats\")\n",
    "#stats.extend(compute_summary_statistics_by_zipcode(metrics_df))\n",
    "#stats.extend(compute_summary_statistics_by_weather_station(metrics_df))"
   ]
  },
  {
   "cell_type": "code",
   "execution_count": null,
   "metadata": {
    "collapsed": false
   },
   "outputs": [],
   "source": [
    "zipcode_mapping_path = os.path.join(data_dir,\n",
    "        \"Building America Climate Zone to Zipcode Database_Rev1_2015.12.18.csv\")\n",
    "\n",
    "national_weighting_path = os.path.join(data_dir,\n",
    "        \"NationalAverageClimateZoneWeightings.json\")\n",
    "\n",
    "summary_statistics = compute_summary_statistics_by_zipcode_group(metrics_df,\n",
    "         filepath=zipcode_mapping_path, weights=national_weighting_path)\n",
    "\n",
    "stats.extend(summary_statistics)"
   ]
  },
  {
   "cell_type": "code",
   "execution_count": null,
   "metadata": {
    "collapsed": true
   },
   "outputs": [],
   "source": [
    "stats_filepath = os.path.join(data_dir, \"thermostat_example_stats.csv\")\n",
    "stats_df = summary_statistics_to_csv(stats, stats_filepath)"
   ]
  }
 ],
 "metadata": {
  "kernelspec": {
   "display_name": "Python 3",
   "language": "python",
   "name": "python3"
  },
  "language_info": {
   "codemirror_mode": {
    "name": "ipython",
    "version": 3
   },
   "file_extension": ".py",
   "mimetype": "text/x-python",
   "name": "python",
   "nbconvert_exporter": "python",
   "pygments_lexer": "ipython3",
   "version": "3.4.3"
  }
 },
 "nbformat": 4,
 "nbformat_minor": 0
}
