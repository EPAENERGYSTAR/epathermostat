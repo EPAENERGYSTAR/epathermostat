{
 "cells": [
  {
   "cell_type": "code",
   "execution_count": 1,
   "metadata": {},
   "outputs": [],
   "source": [
    "%load_ext autoreload\n",
    "%autoreload 2"
   ]
  },
  {
   "cell_type": "code",
   "execution_count": 2,
   "metadata": {},
   "outputs": [
    {
     "data": {
      "text/plain": [
       "'2.0.0'"
      ]
     },
     "execution_count": 2,
     "metadata": {},
     "output_type": "execute_result"
    }
   ],
   "source": [
    "import thermostat; thermostat.get_version()"
   ]
  },
  {
   "cell_type": "code",
   "execution_count": 3,
   "metadata": {},
   "outputs": [],
   "source": [
    "import sys\n",
    "import os\n",
    "import warnings\n",
    "import logging\n",
    "from os.path import expanduser\n",
    "from thermostat.importers import from_csv\n",
    "from thermostat.exporters import metrics_to_csv, certification_to_csv\n",
    "from thermostat.stats import compute_summary_statistics\n",
    "from thermostat.stats import summary_statistics_to_csv\n",
    "from thermostat.multiple import multiple_thermostat_calculate_epa_field_savings_metrics\n",
    "\n",
    "logger = logging.getLogger('epathermostat')\n",
    "# Set this to 'DEBUG' for more logging messages (default: WARNING)\n",
    "# See `multi_thermostat_tutorial.py` for how to \n",
    "# use a logging configuration file which logs to console / file\n",
    "logger.setLevel(logging.WARNING)\n",
    "\n",
    "data_dir = os.path.join(expanduser(\"~\"), \"Downloads\")"
   ]
  },
  {
   "cell_type": "code",
   "execution_count": 4,
   "metadata": {},
   "outputs": [],
   "source": [
    "# dev specific\n",
    "data_dir = os.path.join(os.path.join(\"/\", *thermostat.__file__.split('/')[:6]), \"tests\", \"data\")"
   ]
  },
  {
   "cell_type": "code",
   "execution_count": 5,
   "metadata": {},
   "outputs": [],
   "source": [
    "data_dir = os.path.join(os.path.curdir, \"..\", \"tests\", \"data\")"
   ]
  },
  {
   "cell_type": "code",
   "execution_count": 6,
   "metadata": {},
   "outputs": [
    {
     "name": "stdout",
     "output_type": "stream",
     "text": [
      "Importing thermostat 8850a9e0-b917-40ab-bb94-e03286575d73Importing thermostat 2f3852ae-efbe-42f0-8100-6f6183baeedeImporting thermostat 566eed02-e92f-4ce8-afc2-8d224dc6c61e\n",
      "\n",
      "\n"
     ]
    },
    {
     "name": "stderr",
     "output_type": "stream",
     "text": [
      "WARNING:root:Closest station 726059 is not a recognized station. Using backup-method station 726055 for zipcode 03854 instead.\n"
     ]
    },
    {
     "name": "stdout",
     "output_type": "stream",
     "text": [
      "Importing thermostat eab16216-83c6-42ec-96f0-ee523c159966\n",
      "Importing thermostat 54aeb85f-aa8c-4e32-afb7-4617c08446a5\n"
     ]
    },
    {
     "name": "stderr",
     "output_type": "stream",
     "text": [
      "WARNING:root:Station 725905 is 12299 meters over maximum 50000 meters (62299 meters) (zip code 95979 is at lat/lon 39.301463, -122.515821)\n",
      "WARNING:root:Closest station 725905 is too far. Using backup-method station 745048 instead.\n"
     ]
    },
    {
     "name": "stdout",
     "output_type": "stream",
     "text": [
      "Importing thermostat e5a25daa-c774-48cf-b112-057ebedda3c2\n",
      "Importing thermostat b2a305d1-9df1-4387-a89c-d702f6a9ba3e\n",
      "Importing thermostat 064ec4bc-5317-4ab1-a1e7-a214d1acd74a\n"
     ]
    },
    {
     "name": "stderr",
     "output_type": "stream",
     "text": [
      "WARNING:root:Closest station 749181 is not a recognized station. Using backup-method station 745058 for zipcode 95019 instead.\n",
      "WARNING:eeweather.connections:Failed RETR /pub/data/noaa/2011/720976-00345-2011.gz:\n",
      "550 /pub/data/noaa/2011/720976-00345-2011.gz: No such file or directory\n",
      "Attempting reconnect.\n"
     ]
    },
    {
     "name": "stdout",
     "output_type": "stream",
     "text": [
      "Importing thermostat 9a168b59-6d9c-4b1d-a8af-2a765afbed92\n",
      "Importing thermostat 8465829e-df0d-449e-97bf-96317c24dec3\n"
     ]
    },
    {
     "name": "stderr",
     "output_type": "stream",
     "text": [
      "WARNING:eeweather.connections:Failed RETR /pub/data/noaa/2011/720976-00345-2011.gz:\n",
      "550 /pub/data/noaa/2011/720976-00345-2011.gz: No such file or directory\n",
      "Not attempting reconnect.\n"
     ]
    },
    {
     "name": "stdout",
     "output_type": "stream",
     "text": [
      "Importing thermostat da25834c-3c93-4dda-902e-58e986f5e8f5\n"
     ]
    },
    {
     "name": "stderr",
     "output_type": "stream",
     "text": [
      "WARNING:root:Closest station 749178 is not a recognized station. Using backup-method station 994023 for zipcode 93430 instead.\n"
     ]
    },
    {
     "name": "stdout",
     "output_type": "stream",
     "text": [
      "Importing thermostat 4b82fc6c-9beb-4d64-b5bf-3d9b85003273\n",
      "Importing thermostat e787b7a4-d09e-4bb0-b9b1-95032d44199e\n"
     ]
    },
    {
     "name": "stderr",
     "output_type": "stream",
     "text": [
      "WARNING:root:Closest station 725841 is not a recognized station. Using backup-method station 725846 for zipcode 96128 instead.\n",
      "WARNING:root:Closest station 749170 is not a recognized station. Using backup-method station 723840 for zipcode 93313 instead.\n",
      "WARNING:eeweather.connections:Failed RETR /pub/data/noaa/2011/994023-99999-2011.gz:\n",
      "550 /pub/data/noaa/2011/994023-99999-2011.gz: No such file or directory\n",
      "Attempting reconnect.\n"
     ]
    },
    {
     "name": "stdout",
     "output_type": "stream",
     "text": [
      "Importing thermostat c19345f4-14c9-4aee-9abc-5a9c67016586\n",
      "Importing thermostat feadf000-44c3-45fc-8a67-177414868ae7\n",
      "Importing thermostat a7ed7c85-dc4c-4041-acb3-b42139fa5ecb\n"
     ]
    },
    {
     "name": "stderr",
     "output_type": "stream",
     "text": [
      "WARNING:eeweather.connections:Failed RETR /pub/data/noaa/2011/994023-99999-2011.gz:\n",
      "550 /pub/data/noaa/2011/994023-99999-2011.gz: No such file or directory\n",
      "Not attempting reconnect.\n"
     ]
    },
    {
     "name": "stdout",
     "output_type": "stream",
     "text": [
      "Importing thermostat a2889532-7fb0-4e63-a85b-7fbcbe0f7fe0\n"
     ]
    },
    {
     "name": "stderr",
     "output_type": "stream",
     "text": [
      "WARNING:root:Closest station 742066 is not a recognized station. Using backup-method station 720749 for zipcode 98260 instead.\n",
      "WARNING:eeweather.connections:Failed RETR /pub/data/noaa/2012/994023-99999-2012.gz:\n",
      "550 /pub/data/noaa/2012/994023-99999-2012.gz: No such file or directory\n",
      "Attempting reconnect.\n"
     ]
    },
    {
     "name": "stdout",
     "output_type": "stream",
     "text": [
      "Importing thermostat a16d8fd5-95c9-41d7-a29e-86ef5adb9893\n",
      "Importing thermostat 582b15ff-3ae3-4c05-b401-5e6b3bb96688\n"
     ]
    },
    {
     "name": "stderr",
     "output_type": "stream",
     "text": [
      "WARNING:eeweather.connections:Failed RETR /pub/data/noaa/2012/994023-99999-2012.gz:\n",
      "550 /pub/data/noaa/2012/994023-99999-2012.gz: No such file or directory\n",
      "Not attempting reconnect.\n",
      "WARNING:eeweather.connections:Failed RETR /pub/data/noaa/2015/994023-99999-2015.gz:\n",
      "550 /pub/data/noaa/2015/994023-99999-2015.gz: No such file or directory\n",
      "Attempting reconnect.\n"
     ]
    },
    {
     "name": "stdout",
     "output_type": "stream",
     "text": [
      "Importing thermostat e839fe3c-b4af-43a8-bcd4-209241f1612c\n",
      "Importing thermostat 959325a4-3347-4b43-aa24-2f1bd55195ee\n"
     ]
    },
    {
     "name": "stderr",
     "output_type": "stream",
     "text": [
      "WARNING:eeweather.connections:Failed RETR /pub/data/noaa/2015/994023-99999-2015.gz:\n",
      "550 /pub/data/noaa/2015/994023-99999-2015.gz: No such file or directory\n",
      "Not attempting reconnect.\n"
     ]
    },
    {
     "name": "stdout",
     "output_type": "stream",
     "text": [
      "Importing thermostat e44e30f7-4937-45dd-84f5-b9f78f77ce3a\n",
      "Importing thermostat b5c68765-4c68-4ff9-98ae-5a2da9a5e517\n",
      "Importing thermostat 2d3b385b-1ed1-4658-b551-5728a213f03d\n"
     ]
    },
    {
     "name": "stderr",
     "output_type": "stream",
     "text": [
      "WARNING:root:Closest station 724834 is not a recognized station. Using backup-method station 994044 for zipcode 95460 instead.\n",
      "WARNING:eeweather.connections:Failed RETR /pub/data/noaa/2011/994044-99999-2011.gz:\n",
      "550 /pub/data/noaa/2011/994044-99999-2011.gz: No such file or directory\n",
      "Attempting reconnect.\n"
     ]
    },
    {
     "name": "stdout",
     "output_type": "stream",
     "text": [
      "Importing thermostat 3d7310ca-ef32-470a-a2aa-a18d7740ed07\n",
      "Importing thermostat d28b18d0-4dc0-4010-ae3e-58ab19b5fd61\n"
     ]
    },
    {
     "name": "stderr",
     "output_type": "stream",
     "text": [
      "WARNING:eeweather.connections:Failed RETR /pub/data/noaa/2011/994044-99999-2011.gz:\n",
      "550 /pub/data/noaa/2011/994044-99999-2011.gz: No such file or directory\n",
      "Not attempting reconnect.\n",
      "WARNING:eeweather.connections:Failed RETR /pub/data/noaa/2012/994044-99999-2012.gz:\n",
      "550 /pub/data/noaa/2012/994044-99999-2012.gz: No such file or directory\n",
      "Attempting reconnect.\n"
     ]
    },
    {
     "name": "stdout",
     "output_type": "stream",
     "text": [
      "Importing thermostat 3766e958-03ec-4d96-83c2-7eeb87c74c90\n",
      "Importing thermostat a59238c1-9e4b-4ae7-80ff-9c5de4152bd8\n"
     ]
    },
    {
     "name": "stderr",
     "output_type": "stream",
     "text": [
      "WARNING:eeweather.connections:Failed RETR /pub/data/noaa/2012/994044-99999-2012.gz:\n",
      "550 /pub/data/noaa/2012/994044-99999-2012.gz: No such file or directory\n",
      "Not attempting reconnect.\n"
     ]
    },
    {
     "name": "stdout",
     "output_type": "stream",
     "text": [
      "Importing thermostat fe01324c-e625-4b6c-862f-5a963f52c82a\n",
      "Importing thermostat f4080332-7bc7-40be-a4d1-26311b5ef726\n"
     ]
    },
    {
     "name": "stderr",
     "output_type": "stream",
     "text": [
      "WARNING:root:Closest station 722908 is not a recognized station. Using backup-method station 722975 for zipcode 92603 instead.\n",
      "WARNING:eeweather.connections:Failed RETR /pub/data/noaa/2015/994044-99999-2015.gz:\n",
      "550 /pub/data/noaa/2015/994044-99999-2015.gz: No such file or directory\n",
      "Attempting reconnect.\n"
     ]
    },
    {
     "name": "stdout",
     "output_type": "stream",
     "text": [
      "Importing thermostat 04fa68f1-12c4-45ab-a924-a19c51c8a72b\n",
      "Importing thermostat d36e20f2-e6bb-4caf-9d53-6183b7c08fe1\n"
     ]
    },
    {
     "name": "stderr",
     "output_type": "stream",
     "text": [
      "WARNING:eeweather.connections:Failed RETR /pub/data/noaa/2015/994044-99999-2015.gz:\n",
      "550 /pub/data/noaa/2015/994044-99999-2015.gz: No such file or directory\n",
      "Not attempting reconnect.\n"
     ]
    },
    {
     "name": "stdout",
     "output_type": "stream",
     "text": [
      "Importing thermostat f6b8d9fa-f189-4b47-9d8e-3785c1a06bbe\n",
      "Importing thermostat 1ab401c3-8588-4568-b012-e5d22941edad\n",
      "Importing thermostat 879b43f2-a02d-499a-9d3a-f44cdc78c2ae\n"
     ]
    },
    {
     "name": "stderr",
     "output_type": "stream",
     "text": [
      "WARNING:root:Closest station 692694 is not a recognized station. Using backup-method station 746110 for zipcode 92309 instead.\n",
      "WARNING:eeweather.connections:Failed RETR /pub/data/noaa/2013/725868-94184-2013.gz:\n",
      "550 /pub/data/noaa/2013/725868-94184-2013.gz: No such file or directory\n",
      "Attempting reconnect.\n",
      "WARNING:eeweather.connections:Failed RETR /pub/data/noaa/2013/725868-94184-2013.gz:\n",
      "550 /pub/data/noaa/2013/725868-94184-2013.gz: No such file or directory\n",
      "Not attempting reconnect.\n",
      "WARNING:eeweather.connections:Failed RETR /pub/data/noaa/2014/725868-94184-2014.gz:\n",
      "550 /pub/data/noaa/2014/725868-94184-2014.gz: No such file or directory\n",
      "Attempting reconnect.\n",
      "WARNING:eeweather.connections:Failed RETR /pub/data/noaa/2014/725868-94184-2014.gz:\n",
      "550 /pub/data/noaa/2014/725868-94184-2014.gz: No such file or directory\n",
      "Not attempting reconnect.\n",
      "WARNING:eeweather.connections:Failed RETR /pub/data/noaa/2015/725868-94184-2015.gz:\n",
      "550 /pub/data/noaa/2015/725868-94184-2015.gz: No such file or directory\n",
      "Attempting reconnect.\n",
      "WARNING:eeweather.connections:Failed RETR /pub/data/noaa/2015/725868-94184-2015.gz:\n",
      "550 /pub/data/noaa/2015/725868-94184-2015.gz: No such file or directory\n",
      "Not attempting reconnect.\n"
     ]
    }
   ],
   "source": [
    "metadata_filename = os.path.join(data_dir, \"metadata.csv\")\n",
    "# verbose=True will override logging to display the imported thermostats\n",
    "# Set verbose to \"False\" to use the logging level instead\n",
    "thermostats = from_csv(metadata_filename, verbose=True)"
   ]
  },
  {
   "cell_type": "code",
   "execution_count": 7,
   "metadata": {},
   "outputs": [],
   "source": [
    "data_dir = os.path.join(expanduser(\"~\"), \"Downloads\")"
   ]
  },
  {
   "cell_type": "code",
   "execution_count": 8,
   "metadata": {},
   "outputs": [
    {
     "name": "stderr",
     "output_type": "stream",
     "text": [
      "/home/craig/projects/epathermostat/thermostat/core.py:1322: UserWarning: WARNING: Number of valid cooling days is zero.\n",
      "  warn(\"WARNING: Number of valid cooling days is zero.\")\n",
      "/home/craig/projects/epathermostat/thermostat/core.py:1419: RuntimeWarning: Mean of empty slice\n",
      "  \"_daily_mean_core_day_demand_baseline_baseline_percentile\": np.nanmean(baseline10_demand),\n",
      "/home/craig/projects/epathermostat/thermostat/core.py:1426: RuntimeWarning: Mean of empty slice\n",
      "  \"mean_demand\": np.nanmean(demand),\n",
      "/home/craig/projects/epathermostat/thermostat/core.py:1482: UserWarning: WARNING: Number of valid heating days is zero.\n",
      "  \"WARNING: Number of valid heating days is zero.\")\n",
      "/home/craig/projects/epathermostat/thermostat/core.py:1528: RuntimeWarning: Mean of empty slice\n",
      "  _daily_mean_core_day_demand_baseline_baseline_regional = np.nanmean(baseline_regional_demand)\n",
      "/home/craig/projects/epathermostat/thermostat/core.py:1580: RuntimeWarning: Mean of empty slice\n",
      "  \"_daily_mean_core_day_demand_baseline_baseline_percentile\": np.nanmean(baseline90_demand),\n",
      "/home/craig/projects/epathermostat/thermostat/core.py:1587: RuntimeWarning: Mean of empty slice\n",
      "  \"mean_demand\": np.nanmean(demand),\n"
     ]
    }
   ],
   "source": [
    "# Use this for multi-processing thermostats\n",
    "metrics = multiple_thermostat_calculate_epa_field_savings_metrics(thermostats)"
   ]
  },
  {
   "cell_type": "code",
   "execution_count": 9,
   "metadata": {
    "scrolled": false
   },
   "outputs": [
    {
     "data": {
      "text/plain": [
       "'\\nmetrics = []\\nts = []\\n\\nfor thermostat_ in thermostats:\\n    outputs = thermostat_.calculate_epa_field_savings_metrics()\\n    metrics.extend(outputs)\\n    ts.append(thermostat_)\\n'"
      ]
     },
     "execution_count": 9,
     "metadata": {},
     "output_type": "execute_result"
    }
   ],
   "source": [
    "# Use this to process each thermostat one-at-a-time\n",
    "'''\n",
    "metrics = []\n",
    "ts = []\n",
    "\n",
    "for thermostat_ in thermostats:\n",
    "    outputs = thermostat_.calculate_epa_field_savings_metrics()\n",
    "    metrics.extend(outputs)\n",
    "    ts.append(thermostat_)\n",
    "'''"
   ]
  },
  {
   "cell_type": "code",
   "execution_count": 10,
   "metadata": {},
   "outputs": [],
   "source": [
    "output_filename = os.path.join(data_dir, \"thermostat_example_output.csv\")\n",
    "metrics_df = metrics_to_csv(metrics, output_filename)"
   ]
  },
  {
   "cell_type": "code",
   "execution_count": 11,
   "metadata": {
    "scrolled": true
   },
   "outputs": [],
   "source": [
    "with warnings.catch_warnings():\n",
    "    warnings.simplefilter(\"ignore\")\n",
    "\n",
    "    # uses the metrics_df created in the quickstart above.\n",
    "    stats = compute_summary_statistics(metrics_df)\n",
    "    stats_advanced = compute_summary_statistics(metrics_df, advanced_filtering=True)"
   ]
  },
  {
   "cell_type": "code",
   "execution_count": 12,
   "metadata": {},
   "outputs": [
    {
     "data": {
      "text/html": [
       "<div>\n",
       "<style scoped>\n",
       "    .dataframe tbody tr th:only-of-type {\n",
       "        vertical-align: middle;\n",
       "    }\n",
       "\n",
       "    .dataframe tbody tr th {\n",
       "        vertical-align: top;\n",
       "    }\n",
       "\n",
       "    .dataframe thead th {\n",
       "        text-align: right;\n",
       "    }\n",
       "</style>\n",
       "<table border=\"1\" class=\"dataframe\">\n",
       "  <thead>\n",
       "    <tr style=\"text-align: right;\">\n",
       "      <th></th>\n",
       "      <th>product_id</th>\n",
       "      <th>sw_version</th>\n",
       "      <th>metric</th>\n",
       "      <th>filter</th>\n",
       "      <th>region</th>\n",
       "      <th>statistic</th>\n",
       "      <th>season</th>\n",
       "      <th>value</th>\n",
       "    </tr>\n",
       "  </thead>\n",
       "  <tbody>\n",
       "    <tr>\n",
       "      <th>0</th>\n",
       "      <td>test-product</td>\n",
       "      <td>2.0.0</td>\n",
       "      <td>percent_savings_baseline_percentile</td>\n",
       "      <td>tau_cvrmse_savings_p01</td>\n",
       "      <td>national_weighted_mean</td>\n",
       "      <td>lower_bound_95</td>\n",
       "      <td>heating</td>\n",
       "      <td>28.684217</td>\n",
       "    </tr>\n",
       "    <tr>\n",
       "      <th>1</th>\n",
       "      <td>test-product</td>\n",
       "      <td>2.0.0</td>\n",
       "      <td>percent_savings_baseline_percentile</td>\n",
       "      <td>tau_cvrmse_savings_p01</td>\n",
       "      <td>national_weighted_mean</td>\n",
       "      <td>lower_bound_95</td>\n",
       "      <td>cooling</td>\n",
       "      <td>45.912322</td>\n",
       "    </tr>\n",
       "    <tr>\n",
       "      <th>2</th>\n",
       "      <td>test-product</td>\n",
       "      <td>2.0.0</td>\n",
       "      <td>percent_savings_baseline_percentile</td>\n",
       "      <td>tau_cvrmse_savings_p01</td>\n",
       "      <td>national_weighted_mean</td>\n",
       "      <td>q20</td>\n",
       "      <td>heating</td>\n",
       "      <td>24.291276</td>\n",
       "    </tr>\n",
       "    <tr>\n",
       "      <th>3</th>\n",
       "      <td>test-product</td>\n",
       "      <td>2.0.0</td>\n",
       "      <td>percent_savings_baseline_percentile</td>\n",
       "      <td>tau_cvrmse_savings_p01</td>\n",
       "      <td>national_weighted_mean</td>\n",
       "      <td>q20</td>\n",
       "      <td>cooling</td>\n",
       "      <td>41.692892</td>\n",
       "    </tr>\n",
       "    <tr>\n",
       "      <th>4</th>\n",
       "      <td>test-product</td>\n",
       "      <td>2.0.0</td>\n",
       "      <td>rhu_30F_to_45F_upper_bound_95</td>\n",
       "      <td>tau_cvrmse_savings_p01</td>\n",
       "      <td>all</td>\n",
       "      <td>upper_bound_95</td>\n",
       "      <td>heating</td>\n",
       "      <td>0.615549</td>\n",
       "    </tr>\n",
       "  </tbody>\n",
       "</table>\n",
       "</div>"
      ],
      "text/plain": [
       "     product_id sw_version                               metric  \\\n",
       "0  test-product      2.0.0  percent_savings_baseline_percentile   \n",
       "1  test-product      2.0.0  percent_savings_baseline_percentile   \n",
       "2  test-product      2.0.0  percent_savings_baseline_percentile   \n",
       "3  test-product      2.0.0  percent_savings_baseline_percentile   \n",
       "4  test-product      2.0.0        rhu_30F_to_45F_upper_bound_95   \n",
       "\n",
       "                   filter                  region       statistic   season  \\\n",
       "0  tau_cvrmse_savings_p01  national_weighted_mean  lower_bound_95  heating   \n",
       "1  tau_cvrmse_savings_p01  national_weighted_mean  lower_bound_95  cooling   \n",
       "2  tau_cvrmse_savings_p01  national_weighted_mean             q20  heating   \n",
       "3  tau_cvrmse_savings_p01  national_weighted_mean             q20  cooling   \n",
       "4  tau_cvrmse_savings_p01                     all  upper_bound_95  heating   \n",
       "\n",
       "       value  \n",
       "0  28.684217  \n",
       "1  45.912322  \n",
       "2  24.291276  \n",
       "3  41.692892  \n",
       "4   0.615549  "
      ]
     },
     "execution_count": 12,
     "metadata": {},
     "output_type": "execute_result"
    }
   ],
   "source": [
    "product_id = \"test-product\"\n",
    "stats_filepath = os.path.join(data_dir, \"thermostat_example_stats.csv\")\n",
    "stats_df = summary_statistics_to_csv(stats, stats_filepath, product_id)\n",
    "\n",
    "stats_advanced_filepath = os.path.join(data_dir, \"thermostat_example_stats_advanced.csv\")\n",
    "stats_advanced_df = summary_statistics_to_csv(stats_advanced, stats_advanced_filepath, product_id)\n",
    "\n",
    "\n",
    "certification_filepath = os.path.join(data_dir, \"thermostat_example_certification.csv\")\n",
    "certification_to_csv(stats_df, certification_filepath)"
   ]
  },
  {
   "cell_type": "code",
   "execution_count": null,
   "metadata": {},
   "outputs": [],
   "source": []
  }
 ],
 "metadata": {
  "kernelspec": {
   "display_name": "Python 3",
   "language": "python",
   "name": "python3"
  },
  "language_info": {
   "codemirror_mode": {
    "name": "ipython",
    "version": 3
   },
   "file_extension": ".py",
   "mimetype": "text/x-python",
   "name": "python",
   "nbconvert_exporter": "python",
   "pygments_lexer": "ipython3",
   "version": "3.6.8"
  }
 },
 "nbformat": 4,
 "nbformat_minor": 1
}
