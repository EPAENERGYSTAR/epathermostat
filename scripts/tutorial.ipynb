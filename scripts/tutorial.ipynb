{
 "cells": [
  {
   "cell_type": "code",
   "execution_count": 1,
   "metadata": {
    "collapsed": false
   },
   "outputs": [
    {
     "data": {
      "text/plain": [
       "'0.2.16'"
      ]
     },
     "execution_count": 1,
     "metadata": {},
     "output_type": "execute_result"
    }
   ],
   "source": [
    "import thermostat; thermostat.get_version()"
   ]
  },
  {
   "cell_type": "code",
   "execution_count": 2,
   "metadata": {
    "collapsed": false
   },
   "outputs": [],
   "source": [
    "import sys\n",
    "import os\n",
    "from os.path import expanduser\n",
    "from thermostat.importers import from_csv\n",
    "from thermostat.exporters import seasonal_metrics_to_csv\n",
    "\n",
    "data_dir = os.path.join(expanduser(\"~\"), \"Downloads\")"
   ]
  },
  {
   "cell_type": "code",
   "execution_count": 3,
   "metadata": {
    "collapsed": false
   },
   "outputs": [],
   "source": [
    "# dev specific\n",
    "data_dir = os.path.join(os.path.join(\"/\", *thermostat.__file__.split('/')[:6]), \"tests\", \"data\")"
   ]
  },
  {
   "cell_type": "code",
   "execution_count": 4,
   "metadata": {
    "collapsed": true
   },
   "outputs": [],
   "source": [
    "metadata_filename = os.path.join(data_dir, \"examples/metadata.csv\")\n",
    "thermostats = from_csv(metadata_filename, verbose=True)"
   ]
  },
  {
   "cell_type": "code",
   "execution_count": 5,
   "metadata": {
    "collapsed": false
   },
   "outputs": [],
   "source": [
    "# dev specific\n",
    "metadata_filename = os.path.join(data_dir, \"metadata.csv\")\n",
    "thermostats = from_csv(metadata_filename, verbose=True)"
   ]
  },
  {
   "cell_type": "code",
   "execution_count": 6,
   "metadata": {
    "collapsed": true
   },
   "outputs": [],
   "source": [
    "data_dir = os.path.join(expanduser(\"~\"), \"Downloads\")"
   ]
  },
  {
   "cell_type": "code",
   "execution_count": 7,
   "metadata": {
    "collapsed": false,
    "scrolled": true
   },
   "outputs": [
    {
     "name": "stdout",
     "output_type": "stream",
     "text": [
      "Importing thermostat 064ec4bc-5317-4ab1-a1e7-a214d1acd74a\n",
      "Importing thermostat d28b18d0-4dc0-4010-ae3e-58ab19b5fd61\n",
      "Importing thermostat 959325a4-3347-4b43-aa24-2f1bd55195ee\n",
      "Importing thermostat feadf000-44c3-45fc-8a67-177414868ae7\n",
      "Importing thermostat e44e30f7-4937-45dd-84f5-b9f78f77ce3a\n",
      "Importing thermostat a59238c1-9e4b-4ae7-80ff-9c5de4152bd8\n",
      "Importing thermostat e839fe3c-b4af-43a8-bcd4-209241f1612c\n",
      "Importing thermostat 54aeb85f-aa8c-4e32-afb7-4617c08446a5\n",
      "Importing thermostat 8465829e-df0d-449e-97bf-96317c24dec3\n",
      "Importing thermostat 566eed02-e92f-4ce8-afc2-8d224dc6c61e\n",
      "Importing thermostat d36e20f2-e6bb-4caf-9d53-6183b7c08fe1\n",
      "Importing thermostat a7ed7c85-dc4c-4041-acb3-b42139fa5ecb\n",
      "Importing thermostat 582b15ff-3ae3-4c05-b401-5e6b3bb96688\n",
      "Importing thermostat 2f3852ae-efbe-42f0-8100-6f6183baeede\n",
      "Importing thermostat 8850a9e0-b917-40ab-bb94-e03286575d73\n",
      "Importing thermostat f4080332-7bc7-40be-a4d1-26311b5ef726\n",
      "Importing thermostat 879b43f2-a02d-499a-9d3a-f44cdc78c2ae\n",
      "Importing thermostat 9a168b59-6d9c-4b1d-a8af-2a765afbed92\n",
      "Importing thermostat 3d7310ca-ef32-470a-a2aa-a18d7740ed07\n",
      "Importing thermostat 2d3b385b-1ed1-4658-b551-5728a213f03d\n"
     ]
    },
    {
     "name": "stderr",
     "output_type": "stream",
     "text": [
      "/Users/philngo/.virtualenvs/thermostat/lib/python3.4/site-packages/numpy/lib/nanfunctions.py:675: RuntimeWarning: Mean of empty slice\n",
      "  warnings.warn(\"Mean of empty slice\", RuntimeWarning)\n",
      "/Users/philngo/.virtualenvs/thermostat/lib/python3.4/site-packages/numpy/lib/nanfunctions.py:675: RuntimeWarning: Mean of empty slice\n",
      "  warnings.warn(\"Mean of empty slice\", RuntimeWarning)\n",
      "/Users/philngo/.virtualenvs/thermostat/lib/python3.4/site-packages/numpy/lib/nanfunctions.py:675: RuntimeWarning: Mean of empty slice\n",
      "  warnings.warn(\"Mean of empty slice\", RuntimeWarning)\n",
      "/Users/philngo/.virtualenvs/thermostat/lib/python3.4/site-packages/numpy/lib/nanfunctions.py:675: RuntimeWarning: Mean of empty slice\n",
      "  warnings.warn(\"Mean of empty slice\", RuntimeWarning)\n",
      "/Users/philngo/.virtualenvs/thermostat/lib/python3.4/site-packages/numpy/lib/nanfunctions.py:675: RuntimeWarning: Mean of empty slice\n",
      "  warnings.warn(\"Mean of empty slice\", RuntimeWarning)\n",
      "/Users/philngo/.virtualenvs/thermostat/lib/python3.4/site-packages/numpy/lib/nanfunctions.py:675: RuntimeWarning: Mean of empty slice\n",
      "  warnings.warn(\"Mean of empty slice\", RuntimeWarning)\n"
     ]
    },
    {
     "name": "stdout",
     "output_type": "stream",
     "text": [
      "Importing thermostat b5c68765-4c68-4ff9-98ae-5a2da9a5e517\n",
      "Importing thermostat b2a305d1-9df1-4387-a89c-d702f6a9ba3e\n",
      "Importing thermostat a16d8fd5-95c9-41d7-a29e-86ef5adb9893\n",
      "Importing thermostat da25834c-3c93-4dda-902e-58e986f5e8f5\n",
      "Importing thermostat 3766e958-03ec-4d96-83c2-7eeb87c74c90\n",
      "Importing thermostat e5a25daa-c774-48cf-b112-057ebedda3c2\n",
      "Importing thermostat fe01324c-e625-4b6c-862f-5a963f52c82a\n",
      "Importing thermostat 1ab401c3-8588-4568-b012-e5d22941edad\n",
      "Importing thermostat c19345f4-14c9-4aee-9abc-5a9c67016586\n",
      "Importing thermostat eab16216-83c6-42ec-96f0-ee523c159966\n",
      "Importing thermostat 04fa68f1-12c4-45ab-a924-a19c51c8a72b\n",
      "Importing thermostat e787b7a4-d09e-4bb0-b9b1-95032d44199e\n",
      "Importing thermostat f6b8d9fa-f189-4b47-9d8e-3785c1a06bbe\n",
      "Importing thermostat a2889532-7fb0-4e63-a85b-7fbcbe0f7fe0\n",
      "Importing thermostat 4b82fc6c-9beb-4d64-b5bf-3d9b85003273\n"
     ]
    },
    {
     "name": "stderr",
     "output_type": "stream",
     "text": [
      "/Users/philngo/.virtualenvs/thermostat/lib/python3.4/site-packages/numpy/lib/nanfunctions.py:675: RuntimeWarning: Mean of empty slice\n",
      "  warnings.warn(\"Mean of empty slice\", RuntimeWarning)\n",
      "/Users/philngo/.virtualenvs/thermostat/lib/python3.4/site-packages/numpy/lib/nanfunctions.py:675: RuntimeWarning: Mean of empty slice\n",
      "  warnings.warn(\"Mean of empty slice\", RuntimeWarning)\n",
      "/Users/philngo/.virtualenvs/thermostat/lib/python3.4/site-packages/numpy/lib/nanfunctions.py:675: RuntimeWarning: Mean of empty slice\n",
      "  warnings.warn(\"Mean of empty slice\", RuntimeWarning)\n",
      "/Users/philngo/.virtualenvs/thermostat/lib/python3.4/site-packages/numpy/lib/nanfunctions.py:675: RuntimeWarning: Mean of empty slice\n",
      "  warnings.warn(\"Mean of empty slice\", RuntimeWarning)\n",
      "/Users/philngo/.virtualenvs/thermostat/lib/python3.4/site-packages/numpy/lib/nanfunctions.py:675: RuntimeWarning: Mean of empty slice\n",
      "  warnings.warn(\"Mean of empty slice\", RuntimeWarning)\n",
      "/Users/philngo/.virtualenvs/thermostat/lib/python3.4/site-packages/numpy/lib/nanfunctions.py:675: RuntimeWarning: Mean of empty slice\n",
      "  warnings.warn(\"Mean of empty slice\", RuntimeWarning)\n"
     ]
    }
   ],
   "source": [
    "seasonal_metrics = []\n",
    "for thermostat in thermostats:\n",
    "    outputs = thermostat.calculate_epa_draft_rccs_field_savings_metrics()\n",
    "    seasonal_metrics.extend(outputs)\n",
    "\n",
    "output_filename = os.path.join(data_dir, \"thermostat_example_output.csv\")\n",
    "metrics_df = seasonal_metrics_to_csv(seasonal_metrics, output_filename)"
   ]
  },
  {
   "cell_type": "code",
   "execution_count": 8,
   "metadata": {
    "collapsed": true
   },
   "outputs": [],
   "source": [
    "from thermostat.stats import compute_summary_statistics\n",
    "from thermostat.stats import compute_summary_statistics_by_zipcode\n",
    "from thermostat.stats import compute_summary_statistics_by_weather_station\n",
    "from thermostat.stats import compute_summary_statistics_by_zipcode_group\n",
    "\n",
    "from thermostat.stats import summary_statistics_to_csv"
   ]
  },
  {
   "cell_type": "code",
   "execution_count": 9,
   "metadata": {
    "collapsed": false
   },
   "outputs": [],
   "source": [
    "# uses the metrics_df created in the Quickstart above.\n",
    "stats = compute_summary_statistics(metrics_df, \"all_thermostats\")\n",
    "#stats.extend(compute_summary_statistics_by_zipcode(metrics_df))\n",
    "#stats.extend(compute_summary_statistics_by_weather_station(metrics_df))\n"
   ]
  },
  {
   "cell_type": "code",
   "execution_count": 10,
   "metadata": {
    "collapsed": false
   },
   "outputs": [
    {
     "name": "stderr",
     "output_type": "stream",
     "text": [
      "/Users/philngo/dev/thermostat/thermostat/thermostat/stats.py:563: UserWarning: Not enough data to compute summary_statistics for Hot-Humid heating\n",
      "  warn(message)\n",
      "/Users/philngo/.virtualenvs/thermostat/lib/python3.4/site-packages/numpy/lib/nanfunctions.py:675: RuntimeWarning: Mean of empty slice\n",
      "  warnings.warn(\"Mean of empty slice\", RuntimeWarning)\n",
      "/Users/philngo/.virtualenvs/thermostat/lib/python3.4/site-packages/numpy/lib/nanfunctions.py:1147: RuntimeWarning: Degrees of freedom <= 0 for slice.\n",
      "  warnings.warn(\"Degrees of freedom <= 0 for slice.\", RuntimeWarning)\n",
      "/Users/philngo/.virtualenvs/thermostat/lib/python3.4/site-packages/numpy/lib/nanfunctions.py:675: RuntimeWarning: Mean of empty slice\n",
      "  warnings.warn(\"Mean of empty slice\", RuntimeWarning)\n",
      "/Users/philngo/.virtualenvs/thermostat/lib/python3.4/site-packages/numpy/lib/nanfunctions.py:1147: RuntimeWarning: Degrees of freedom <= 0 for slice.\n",
      "  warnings.warn(\"Degrees of freedom <= 0 for slice.\", RuntimeWarning)\n",
      "/Users/philngo/.virtualenvs/thermostat/lib/python3.4/site-packages/numpy/lib/nanfunctions.py:675: RuntimeWarning: Mean of empty slice\n",
      "  warnings.warn(\"Mean of empty slice\", RuntimeWarning)\n",
      "/Users/philngo/.virtualenvs/thermostat/lib/python3.4/site-packages/numpy/lib/nanfunctions.py:1147: RuntimeWarning: Degrees of freedom <= 0 for slice.\n",
      "  warnings.warn(\"Degrees of freedom <= 0 for slice.\", RuntimeWarning)\n",
      "/Users/philngo/.virtualenvs/thermostat/lib/python3.4/site-packages/numpy/lib/nanfunctions.py:675: RuntimeWarning: Mean of empty slice\n",
      "  warnings.warn(\"Mean of empty slice\", RuntimeWarning)\n",
      "/Users/philngo/.virtualenvs/thermostat/lib/python3.4/site-packages/numpy/lib/nanfunctions.py:1147: RuntimeWarning: Degrees of freedom <= 0 for slice.\n",
      "  warnings.warn(\"Degrees of freedom <= 0 for slice.\", RuntimeWarning)\n",
      "/Users/philngo/.virtualenvs/thermostat/lib/python3.4/site-packages/numpy/lib/nanfunctions.py:675: RuntimeWarning: Mean of empty slice\n",
      "  warnings.warn(\"Mean of empty slice\", RuntimeWarning)\n",
      "/Users/philngo/.virtualenvs/thermostat/lib/python3.4/site-packages/numpy/lib/nanfunctions.py:1147: RuntimeWarning: Degrees of freedom <= 0 for slice.\n",
      "  warnings.warn(\"Degrees of freedom <= 0 for slice.\", RuntimeWarning)\n",
      "/Users/philngo/.virtualenvs/thermostat/lib/python3.4/site-packages/numpy/lib/nanfunctions.py:675: RuntimeWarning: Mean of empty slice\n",
      "  warnings.warn(\"Mean of empty slice\", RuntimeWarning)\n",
      "/Users/philngo/.virtualenvs/thermostat/lib/python3.4/site-packages/numpy/lib/nanfunctions.py:1147: RuntimeWarning: Degrees of freedom <= 0 for slice.\n",
      "  warnings.warn(\"Degrees of freedom <= 0 for slice.\", RuntimeWarning)\n",
      "/Users/philngo/.virtualenvs/thermostat/lib/python3.4/site-packages/numpy/lib/nanfunctions.py:675: RuntimeWarning: Mean of empty slice\n",
      "  warnings.warn(\"Mean of empty slice\", RuntimeWarning)\n",
      "/Users/philngo/.virtualenvs/thermostat/lib/python3.4/site-packages/numpy/lib/nanfunctions.py:1147: RuntimeWarning: Degrees of freedom <= 0 for slice.\n",
      "  warnings.warn(\"Degrees of freedom <= 0 for slice.\", RuntimeWarning)\n",
      "/Users/philngo/.virtualenvs/thermostat/lib/python3.4/site-packages/numpy/lib/nanfunctions.py:675: RuntimeWarning: Mean of empty slice\n",
      "  warnings.warn(\"Mean of empty slice\", RuntimeWarning)\n",
      "/Users/philngo/.virtualenvs/thermostat/lib/python3.4/site-packages/numpy/lib/nanfunctions.py:1147: RuntimeWarning: Degrees of freedom <= 0 for slice.\n",
      "  warnings.warn(\"Degrees of freedom <= 0 for slice.\", RuntimeWarning)\n",
      "/Users/philngo/.virtualenvs/thermostat/lib/python3.4/site-packages/numpy/lib/nanfunctions.py:675: RuntimeWarning: Mean of empty slice\n",
      "  warnings.warn(\"Mean of empty slice\", RuntimeWarning)\n",
      "/Users/philngo/.virtualenvs/thermostat/lib/python3.4/site-packages/numpy/lib/nanfunctions.py:1147: RuntimeWarning: Degrees of freedom <= 0 for slice.\n",
      "  warnings.warn(\"Degrees of freedom <= 0 for slice.\", RuntimeWarning)\n",
      "/Users/philngo/.virtualenvs/thermostat/lib/python3.4/site-packages/numpy/lib/nanfunctions.py:675: RuntimeWarning: Mean of empty slice\n",
      "  warnings.warn(\"Mean of empty slice\", RuntimeWarning)\n",
      "/Users/philngo/.virtualenvs/thermostat/lib/python3.4/site-packages/numpy/lib/nanfunctions.py:1147: RuntimeWarning: Degrees of freedom <= 0 for slice.\n",
      "  warnings.warn(\"Degrees of freedom <= 0 for slice.\", RuntimeWarning)\n",
      "/Users/philngo/.virtualenvs/thermostat/lib/python3.4/site-packages/numpy/lib/nanfunctions.py:675: RuntimeWarning: Mean of empty slice\n",
      "  warnings.warn(\"Mean of empty slice\", RuntimeWarning)\n",
      "/Users/philngo/.virtualenvs/thermostat/lib/python3.4/site-packages/numpy/lib/nanfunctions.py:1147: RuntimeWarning: Degrees of freedom <= 0 for slice.\n",
      "  warnings.warn(\"Degrees of freedom <= 0 for slice.\", RuntimeWarning)\n",
      "/Users/philngo/.virtualenvs/thermostat/lib/python3.4/site-packages/numpy/lib/nanfunctions.py:675: RuntimeWarning: Mean of empty slice\n",
      "  warnings.warn(\"Mean of empty slice\", RuntimeWarning)\n",
      "/Users/philngo/.virtualenvs/thermostat/lib/python3.4/site-packages/numpy/lib/nanfunctions.py:1147: RuntimeWarning: Degrees of freedom <= 0 for slice.\n",
      "  warnings.warn(\"Degrees of freedom <= 0 for slice.\", RuntimeWarning)\n",
      "/Users/philngo/.virtualenvs/thermostat/lib/python3.4/site-packages/numpy/lib/nanfunctions.py:675: RuntimeWarning: Mean of empty slice\n",
      "  warnings.warn(\"Mean of empty slice\", RuntimeWarning)\n",
      "/Users/philngo/.virtualenvs/thermostat/lib/python3.4/site-packages/numpy/lib/nanfunctions.py:1147: RuntimeWarning: Degrees of freedom <= 0 for slice.\n",
      "  warnings.warn(\"Degrees of freedom <= 0 for slice.\", RuntimeWarning)\n",
      "/Users/philngo/.virtualenvs/thermostat/lib/python3.4/site-packages/numpy/lib/nanfunctions.py:675: RuntimeWarning: Mean of empty slice\n",
      "  warnings.warn(\"Mean of empty slice\", RuntimeWarning)\n",
      "/Users/philngo/.virtualenvs/thermostat/lib/python3.4/site-packages/numpy/lib/nanfunctions.py:1147: RuntimeWarning: Degrees of freedom <= 0 for slice.\n",
      "  warnings.warn(\"Degrees of freedom <= 0 for slice.\", RuntimeWarning)\n",
      "/Users/philngo/dev/thermostat/thermostat/thermostat/stats.py:563: UserWarning: Not enough data to compute summary_statistics for Very-Cold cooling\n",
      "  warn(message)\n"
     ]
    }
   ],
   "source": [
    "zipcode_mapping_path = os.path.join(data_dir,\n",
    "        \"Building America Climate Zone to Zipcode Database_Rev1_2015.12.18.csv\")\n",
    "\n",
    "national_weighting_path = os.path.join(data_dir,\n",
    "        \"NationalAverageClimateZoneWeightings.json\")\n",
    "\n",
    "summary_statistics = compute_summary_statistics_by_zipcode_group(metrics_df,\n",
    "         filepath=zipcode_mapping_path, weights=national_weighting_path)\n",
    "\n",
    "stats.extend(summary_statistics)"
   ]
  },
  {
   "cell_type": "code",
   "execution_count": 11,
   "metadata": {
    "collapsed": true
   },
   "outputs": [],
   "source": [
    "stats_filepath = os.path.join(data_dir, \"thermostat_example_stats.csv\")\n",
    "stats_df = summary_statistics_to_csv(stats, stats_filepath)"
   ]
  },
  {
   "cell_type": "code",
   "execution_count": null,
   "metadata": {
    "collapsed": true
   },
   "outputs": [],
   "source": []
  }
 ],
 "metadata": {
  "kernelspec": {
   "display_name": "Python 3",
   "language": "python",
   "name": "python3"
  },
  "language_info": {
   "codemirror_mode": {
    "name": "ipython",
    "version": 3
   },
   "file_extension": ".py",
   "mimetype": "text/x-python",
   "name": "python",
   "nbconvert_exporter": "python",
   "pygments_lexer": "ipython3",
   "version": "3.4.3"
  }
 },
 "nbformat": 4,
 "nbformat_minor": 0
}
