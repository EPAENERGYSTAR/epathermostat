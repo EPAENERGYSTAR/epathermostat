{
 "cells": [
  {
   "cell_type": "code",
   "execution_count": null,
   "metadata": {},
   "outputs": [],
   "source": [
    "%load_ext autoreload\n",
    "%autoreload 2"
   ]
  },
  {
   "cell_type": "code",
   "execution_count": null,
   "metadata": {},
   "outputs": [],
   "source": [
    "import thermostat; thermostat.get_version()"
   ]
  },
  {
   "cell_type": "code",
   "execution_count": null,
   "metadata": {},
   "outputs": [],
   "source": [
    "import sys\n",
    "import os\n",
    "import warnings\n",
    "import logging\n",
    "from os.path import expanduser\n",
    "from thermostat.importers import from_csv\n",
    "from thermostat.exporters import metrics_to_csv\n",
    "from thermostat.stats import compute_summary_statistics\n",
    "from thermostat.stats import summary_statistics_to_csv\n",
    "from thermostat.multiple import multiple_thermostat_calculate_epa_field_savings_metrics\n",
    "\n",
    "logger = logging.getLogger()\n",
    "logger.setLevel(logging.DEBUG)\n",
    "\n",
    "data_dir = os.path.join(expanduser(\"~\"), \"Downloads\")"
   ]
  },
  {
   "cell_type": "code",
   "execution_count": null,
   "metadata": {},
   "outputs": [],
   "source": [
    "# dev specific\n",
    "data_dir = os.path.join(os.path.join(\"/\", *thermostat.__file__.split('/')[:6]), \"tests\", \"data\")"
   ]
  },
  {
   "cell_type": "code",
   "execution_count": null,
   "metadata": {},
   "outputs": [],
   "source": [
    "data_dir = os.path.join(os.path.curdir, \"..\", \"tests\", \"data\")"
   ]
  },
  {
   "cell_type": "code",
   "execution_count": null,
   "metadata": {},
   "outputs": [],
   "source": [
    "metadata_filename = os.path.join(data_dir, \"metadata.csv\")\n",
    "thermostats = from_csv(metadata_filename, verbose=True)"
   ]
  },
  {
   "cell_type": "code",
   "execution_count": null,
   "metadata": {},
   "outputs": [],
   "source": [
    "# dev specific\n",
    "metadata_filename = os.path.join(data_dir, \"metadata.csv\")\n",
    "thermostats = from_csv(metadata_filename, verbose=True)"
   ]
  },
  {
   "cell_type": "code",
   "execution_count": null,
   "metadata": {},
   "outputs": [],
   "source": [
    "data_dir = os.path.join(expanduser(\"~\"), \"Downloads\")"
   ]
  },
  {
   "cell_type": "code",
   "execution_count": null,
   "metadata": {},
   "outputs": [],
   "source": [
    "# Use this for multi-processing thermostats\n",
    "metrics = multiple_thermostat_calculate_epa_field_savings_metrics(thermostats)"
   ]
  },
  {
   "cell_type": "code",
   "execution_count": null,
   "metadata": {
    "scrolled": false
   },
   "outputs": [],
   "source": [
    "# Use this to process each thermostat one-at-a-time\n",
    "metrics = []\n",
    "ts = []\n",
    "\n",
    "for thermostat_ in thermostats:\n",
    "    outputs = thermostat_.calculate_epa_field_savings_metrics()\n",
    "    metrics.extend(outputs)\n",
    "    ts.append(thermostat_)"
   ]
  },
  {
   "cell_type": "code",
   "execution_count": null,
   "metadata": {},
   "outputs": [],
   "source": [
    "output_filename = os.path.join(data_dir, \"thermostat_example_output.csv\")\n",
    "metrics_df = metrics_to_csv(metrics, output_filename)"
   ]
  },
  {
   "cell_type": "code",
   "execution_count": null,
   "metadata": {
    "scrolled": true
   },
   "outputs": [],
   "source": [
    "with warnings.catch_warnings():\n",
    "    warnings.simplefilter(\"ignore\")\n",
    "\n",
    "    # uses the metrics_df created in the quickstart above.\n",
    "    stats = compute_summary_statistics(metrics_df)\n",
    "    stats_advanced = compute_summary_statistics(metrics_df, advanced_filtering=True)"
   ]
  },
  {
   "cell_type": "code",
   "execution_count": null,
   "metadata": {},
   "outputs": [],
   "source": [
    "product_id = \"test-product\"\n",
    "stats_filepath = os.path.join(data_dir, \"thermostat_example_stats.csv\")\n",
    "stats_df = summary_statistics_to_csv(stats, stats_filepath, product_id)\n",
    "\n",
    "stats_advanced_filepath = os.path.join(data_dir, \"thermostat_example_stats_advanced.csv\")\n",
    "stats_advanced_df = summary_statistics_to_csv(stats_advanced, stats_advanced_filepath, product_id)"
   ]
  }
 ],
 "metadata": {
  "kernelspec": {
   "display_name": "Python 3",
   "language": "python",
   "name": "python3"
  },
  "language_info": {
   "codemirror_mode": {
    "name": "ipython",
    "version": 3
   },
   "file_extension": ".py",
   "mimetype": "text/x-python",
   "name": "python",
   "nbconvert_exporter": "python",
   "pygments_lexer": "ipython3",
   "version": "3.5.5"
  }
 },
 "nbformat": 4,
 "nbformat_minor": 1
}
