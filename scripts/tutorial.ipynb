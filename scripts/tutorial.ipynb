{
 "cells": [
  {
   "cell_type": "code",
   "execution_count": 1,
   "metadata": {},
   "outputs": [],
   "source": [
    "%load_ext autoreload\n",
    "%autoreload 2"
   ]
  },
  {
   "cell_type": "code",
   "execution_count": 2,
   "metadata": {},
   "outputs": [
    {
     "data": {
      "text/plain": [
       "'2.0.0'"
      ]
     },
     "execution_count": 2,
     "metadata": {},
     "output_type": "execute_result"
    }
   ],
   "source": [
    "import thermostat; thermostat.get_version()"
   ]
  },
  {
   "cell_type": "code",
   "execution_count": 3,
   "metadata": {},
   "outputs": [],
   "source": [
    "import sys\n",
    "import os\n",
    "import warnings\n",
    "import logging\n",
    "from os.path import expanduser\n",
    "from thermostat.importers import from_csv\n",
    "from thermostat.exporters import metrics_to_csv, certification_to_csv\n",
    "from thermostat.stats import compute_summary_statistics\n",
    "from thermostat.stats import summary_statistics_to_csv\n",
    "from thermostat.multiple import multiple_thermostat_calculate_epa_field_savings_metrics\n",
    "\n",
    "logger = logging.getLogger('epathermostat')\n",
    "# Set this to 'DEBUG' for more logging messages (default: WARNING)\n",
    "# See `multi_thermostat_tutorial.py` for how to \n",
    "# use a logging configuration file which logs to console / file\n",
    "logger.setLevel(logging.WARNING)\n",
    "\n",
    "data_dir = os.path.join(expanduser(\"~\"), \"Downloads\")"
   ]
  },
  {
   "cell_type": "code",
   "execution_count": 4,
   "metadata": {},
   "outputs": [],
   "source": [
    "# dev specific\n",
    "data_dir = os.path.join(os.path.join(\"/\", *thermostat.__file__.split('/')[:6]), \"tests\", \"data\", \"single_stage\")"
   ]
  },
  {
   "cell_type": "code",
   "execution_count": 5,
   "metadata": {},
   "outputs": [],
   "source": [
    "data_dir = os.path.join(os.path.curdir, \"..\", \"tests\", \"data\", \"single_stage\")"
   ]
  },
  {
   "cell_type": "code",
   "execution_count": 6,
   "metadata": {},
   "outputs": [
    {
     "name": "stdout",
     "output_type": "stream",
     "text": [
      "Importing thermostat 959325a4-3347-4b43-aa24-2f1bd55195eeImporting thermostat 04fa68f1-12c4-45ab-a924-a19c51c8a72bImporting thermostat 2f3852ae-efbe-42f0-8100-6f6183baeede\n",
      "\n",
      "\n",
      "Importing thermostat 566eed02-e92f-4ce8-afc2-8d224dc6c61e\n",
      "Importing thermostat b2a305d1-9df1-4387-a89c-d702f6a9ba3e\n",
      "Importing thermostat eab16216-83c6-42ec-96f0-ee523c159966\n",
      "Importing thermostat fe01324c-e625-4b6c-862f-5a963f52c82a\n",
      "Importing thermostat f6b8d9fa-f189-4b47-9d8e-3785c1a06bbe\n",
      "Importing thermostat e787b7a4-d09e-4bb0-b9b1-95032d44199e\n",
      "Importing thermostat 9a168b59-6d9c-4b1d-a8af-2a765afbed92\n",
      "Importing thermostat da25834c-3c93-4dda-902e-58e986f5e8f5\n",
      "Importing thermostat 8465829e-df0d-449e-97bf-96317c24dec3\n",
      "Importing thermostat b5c68765-4c68-4ff9-98ae-5a2da9a5e517\n",
      "Importing thermostat 3766e958-03ec-4d96-83c2-7eeb87c74c90\n",
      "Importing thermostat e5a25daa-c774-48cf-b112-057ebedda3c2\n",
      "Importing thermostat 2d3b385b-1ed1-4658-b551-5728a213f03d\n",
      "Importing thermostat 3d7310ca-ef32-470a-a2aa-a18d7740ed07\n",
      "Importing thermostat 4b82fc6c-9beb-4d64-b5bf-3d9b85003273\n",
      "Importing thermostat 582b15ff-3ae3-4c05-b401-5e6b3bb96688\n",
      "Importing thermostat d28b18d0-4dc0-4010-ae3e-58ab19b5fd61\n",
      "Importing thermostat 879b43f2-a02d-499a-9d3a-f44cdc78c2ae\n",
      "Importing thermostat e44e30f7-4937-45dd-84f5-b9f78f77ce3a\n",
      "Importing thermostat c19345f4-14c9-4aee-9abc-5a9c67016586\n",
      "Importing thermostat feadf000-44c3-45fc-8a67-177414868ae7\n"
     ]
    },
    {
     "name": "stderr",
     "output_type": "stream",
     "text": [
      "WARNING:eeweather.connections:Failed RETR /pub/data/noaa/2011/720516-99999-2011.gz:\n",
      "550 /pub/data/noaa/2011/720516-99999-2011.gz: No such file or directory\n",
      "Attempting reconnect.\n"
     ]
    },
    {
     "name": "stdout",
     "output_type": "stream",
     "text": [
      "Importing thermostat a16d8fd5-95c9-41d7-a29e-86ef5adb9893\n",
      "Importing thermostat 54aeb85f-aa8c-4e32-afb7-4617c08446a5\n"
     ]
    },
    {
     "name": "stderr",
     "output_type": "stream",
     "text": [
      "WARNING:eeweather.connections:Failed attempt (1 of 5) to connect to ftp.ncdc.noaa.gov:\n",
      "\n"
     ]
    },
    {
     "name": "stdout",
     "output_type": "stream",
     "text": [
      "Importing thermostat 1ab401c3-8588-4568-b012-e5d22941edad\n",
      "Importing thermostat a2889532-7fb0-4e63-a85b-7fbcbe0f7fe0\n",
      "Importing thermostat f4080332-7bc7-40be-a4d1-26311b5ef726\n",
      "Importing thermostat d36e20f2-e6bb-4caf-9d53-6183b7c08fe1\n",
      "Importing thermostat a59238c1-9e4b-4ae7-80ff-9c5de4152bd8\n"
     ]
    },
    {
     "name": "stderr",
     "output_type": "stream",
     "text": [
      "WARNING:eeweather.connections:Failed RETR /pub/data/noaa/2011/720516-99999-2011.gz:\n",
      "550 /pub/data/noaa/2011/720516-99999-2011.gz: No such file or directory\n",
      "Not attempting reconnect.\n"
     ]
    },
    {
     "name": "stdout",
     "output_type": "stream",
     "text": [
      "Importing thermostat a7ed7c85-dc4c-4041-acb3-b42139fa5ecb\n"
     ]
    },
    {
     "name": "stderr",
     "output_type": "stream",
     "text": [
      "WARNING:eeweather.connections:Failed RETR /pub/data/noaa/2012/720516-99999-2012.gz:\n",
      "550 /pub/data/noaa/2012/720516-99999-2012.gz: No such file or directory\n",
      "Attempting reconnect.\n"
     ]
    },
    {
     "name": "stdout",
     "output_type": "stream",
     "text": [
      "Importing thermostat 8850a9e0-b917-40ab-bb94-e03286575d73\n",
      "Importing thermostat e839fe3c-b4af-43a8-bcd4-209241f1612c\n"
     ]
    },
    {
     "name": "stderr",
     "output_type": "stream",
     "text": [
      "WARNING:eeweather.connections:Failed RETR /pub/data/noaa/2012/720516-99999-2012.gz:\n",
      "550 /pub/data/noaa/2012/720516-99999-2012.gz: No such file or directory\n",
      "Not attempting reconnect.\n"
     ]
    },
    {
     "name": "stdout",
     "output_type": "stream",
     "text": [
      "Importing thermostat 064ec4bc-5317-4ab1-a1e7-a214d1acd74a\n"
     ]
    }
   ],
   "source": [
    "metadata_filename = os.path.join(data_dir, \"metadata.csv\")\n",
    "# verbose=True will override logging to display the imported thermostats\n",
    "# Set verbose to \"False\" to use the logging level instead\n",
    "thermostats = from_csv(metadata_filename, verbose=True)"
   ]
  },
  {
   "cell_type": "code",
   "execution_count": 7,
   "metadata": {},
   "outputs": [],
   "source": [
    "data_dir = os.path.join(expanduser(\"~\"), \"Downloads\")"
   ]
  },
  {
   "cell_type": "code",
   "execution_count": 8,
   "metadata": {},
   "outputs": [
    {
     "name": "stderr",
     "output_type": "stream",
     "text": [
      "/home/craig/projects/epathermostat/thermostat/core.py:1310: UserWarning: WARNING: Number of valid cooling days is zero.\n",
      "  warn(\"WARNING: Number of valid cooling days is zero.\")\n",
      "/home/craig/projects/epathermostat/thermostat/core.py:1313: UserWarning: WARNING: Number of valid cooling hours is zero.\n",
      "  warn(\"WARNING: Number of valid cooling hours is zero.\")\n",
      "/home/craig/projects/epathermostat/thermostat/core.py:1410: RuntimeWarning: Mean of empty slice\n",
      "  \"_daily_mean_core_day_demand_baseline_baseline_percentile\": np.nanmean(baseline10_demand),\n",
      "/home/craig/projects/epathermostat/thermostat/core.py:1417: RuntimeWarning: Mean of empty slice\n",
      "  \"mean_demand\": np.nanmean(demand),\n"
     ]
    }
   ],
   "source": [
    "# Use this for multi-processing thermostats\n",
    "metrics = multiple_thermostat_calculate_epa_field_savings_metrics(thermostats)"
   ]
  },
  {
   "cell_type": "code",
   "execution_count": 9,
   "metadata": {
    "scrolled": false
   },
   "outputs": [
    {
     "data": {
      "text/plain": [
       "'\\nmetrics = []\\nts = []\\n\\nfor thermostat_ in thermostats:\\n    outputs = thermostat_.calculate_epa_field_savings_metrics()\\n    metrics.extend(outputs)\\n    ts.append(thermostat_)\\n'"
      ]
     },
     "execution_count": 9,
     "metadata": {},
     "output_type": "execute_result"
    }
   ],
   "source": [
    "# Use this to process each thermostat one-at-a-time\n",
    "'''\n",
    "metrics = []\n",
    "ts = []\n",
    "\n",
    "for thermostat_ in thermostats:\n",
    "    outputs = thermostat_.calculate_epa_field_savings_metrics()\n",
    "    metrics.extend(outputs)\n",
    "    ts.append(thermostat_)\n",
    "'''"
   ]
  },
  {
   "cell_type": "code",
   "execution_count": 10,
   "metadata": {},
   "outputs": [],
   "source": [
    "output_filename = os.path.join(data_dir, \"thermostat_example_output.csv\")\n",
    "metrics_df = metrics_to_csv(metrics, output_filename)"
   ]
  },
  {
   "cell_type": "code",
   "execution_count": 11,
   "metadata": {
    "scrolled": true
   },
   "outputs": [],
   "source": [
    "with warnings.catch_warnings():\n",
    "    warnings.simplefilter(\"ignore\")\n",
    "\n",
    "    # uses the metrics_df created in the quickstart above.\n",
    "    stats = compute_summary_statistics(metrics_df)\n",
    "    stats_advanced = compute_summary_statistics(metrics_df, advanced_filtering=True)"
   ]
  },
  {
   "cell_type": "code",
   "execution_count": 12,
   "metadata": {},
   "outputs": [],
   "source": [
    "product_id = \"test-product\"\n",
    "\n",
    "certification_filepath = os.path.join(data_dir, \"thermostat_example_certification.csv\")\n",
    "certification_to_csv(stats, certification_filepath, product_id)\n",
    "\n",
    "stats_filepath = os.path.join(data_dir, \"thermostat_example_stats.csv\")\n",
    "stats_df = summary_statistics_to_csv(stats, stats_filepath, product_id)\n",
    "\n",
    "stats_advanced_filepath = os.path.join(data_dir, \"thermostat_example_stats_advanced.csv\")\n",
    "stats_advanced_df = summary_statistics_to_csv(stats_advanced, stats_advanced_filepath, product_id)\n",
    "\n",
    "\n"
   ]
  },
  {
   "cell_type": "code",
   "execution_count": null,
   "metadata": {},
   "outputs": [],
   "source": []
  }
 ],
 "metadata": {
  "kernelspec": {
   "display_name": "Python 3",
   "language": "python",
   "name": "python3"
  },
  "language_info": {
   "codemirror_mode": {
    "name": "ipython",
    "version": 3
   },
   "file_extension": ".py",
   "mimetype": "text/x-python",
   "name": "python",
   "nbconvert_exporter": "python",
   "pygments_lexer": "ipython3",
   "version": "3.6.8"
  }
 },
 "nbformat": 4,
 "nbformat_minor": 1
}
